{
 "cells": [
  {
   "cell_type": "markdown",
   "metadata": {
    "deletable": true,
    "editable": true
   },
   "source": [
    "### Milestone 5: Final Report"
   ]
  },
  {
   "cell_type": "code",
   "execution_count": null,
   "metadata": {
    "collapsed": false,
    "deletable": true,
    "editable": true
   },
   "outputs": [],
   "source": [
    "import tensorflow as tf\n",
    "import numpy as np\n",
    "import pandas as pd\n",
    "from scipy import ndimage, misc\n",
    "\n",
    "import keras\n",
    "from keras import backend as K\n",
    "from keras.models import Sequential\n",
    "from keras.models import load_model\n",
    "from keras.layers import Dense, Dropout, Flatten, Activation, Conv2D, MaxPooling2D\n",
    "from keras.optimizers import SGD, RMSprop\n",
    "from keras.utils import plot_model\n",
    "from keras.utils.vis_utils import model_to_dot\n",
    "from keras.preprocessing.image import ImageDataGenerator\n",
    "\n",
    "from sklearn.metrics import roc_curve, hamming_loss, average_precision_score, recall_score, precision_score, f1_score, classification_report, roc_auc_score\n",
    "from sklearn.model_selection import train_test_split\n",
    "from sklearn.model_selection import KFold\n",
    "from sklearn.ensemble import RandomForestClassifier as RFC\n",
    "from sklearn.decomposition import PCA\n",
    "from sklearn import preprocessing\n",
    "\n",
    "#from IPython.display import SVG\n",
    "import matplotlib\n",
    "import matplotlib.pyplot as plt\n",
    "\n",
    "import string\n",
    "import time\n",
    "from datetime import datetime\n",
    "from __future__ import division\n",
    "\n",
    "\n",
    "\n",
    "%matplotlib inline"
   ]
  },
  {
   "cell_type": "code",
   "execution_count": null,
   "metadata": {
    "collapsed": false,
    "deletable": true,
    "editable": true
   },
   "outputs": [],
   "source": [
    "\"\"\"\n",
    "This notebook is an extension of Milestones 3 & 4, adding topic modeling variables,\n",
    "improving the data processing pipeline, and extending the deep learning model.\n",
    "\n",
    "Specifically, these issues were addressed:\n",
    "\n",
    "    1.  The test set must be set aside to start with, \n",
    "        so subsequently generated training sets don't dip into it   \n",
    "            \n",
    "    2.  Implement training by \"maxi-batches\": \n",
    "            - set aside test\n",
    "            - load one big train batch (~5k)\n",
    "            - do one epoch of training\n",
    "    \n",
    "    4.  Manual image pre-processing - use scipy to load images in with \n",
    "        uniform shape and formatting (and downsample, if desired)\n",
    "        \n",
    "    5.  Use Precision and Recall custom fcns for metrics\n",
    "    \n",
    "    6.  Save Keras model and associated metadata automatically\n",
    "    \n",
    "    7.  Log results for TensorBoard viz\n",
    "    \n",
    "    8.  Functionalize calls for model building and fitting, so we can sweep configs\n",
    "\n",
    "\"\"\""
   ]
  },
  {
   "cell_type": "markdown",
   "metadata": {
    "deletable": true,
    "editable": true
   },
   "source": [
    "### Data loading, munging, and topic modeling of movie overviews"
   ]
  },
  {
   "cell_type": "code",
   "execution_count": null,
   "metadata": {
    "collapsed": false,
    "deletable": true,
    "editable": true
   },
   "outputs": [],
   "source": [
    "%cd ~/data/\n",
    "\n",
    "### Set whether to generate dataset from scratch, or load from CSVs ###\n",
    "LOAD_FROM_CSV = True\n",
    "####################\n",
    "\n",
    "\n",
    "if LOAD_FROM_CSV:\n",
    "    \n",
    "    ### Read tabular data from CSVs ###\n",
    "    X_train = pd.read_csv('X_train.csv').as_matrix()\n",
    "    X_test = pd.read_csv('X_test.csv').as_matrix()\n",
    "    X_valid = pd.read_csv('X_valid.csv').as_matrix()\n",
    "    y_train = pd.read_csv('y_train.csv', header=None).as_matrix()\n",
    "    y_test = pd.read_csv('y_test.csv', header=None).as_matrix()\n",
    "    y_valid = pd.read_csv('y_valid.csv', header=None).as_matrix()\n",
    "    ids_train = pd.read_csv('ids_train.csv', header=None).as_matrix()\n",
    "    ids_test = pd.read_csv('ids_test.csv', header=None).as_matrix()\n",
    "    ids_valid = pd.read_csv('ids_validate.csv', header=None).as_matrix()"
   ]
  },
  {
   "cell_type": "code",
   "execution_count": null,
   "metadata": {
    "collapsed": false,
    "deletable": true,
    "editable": true
   },
   "outputs": [],
   "source": [
    "### Loading and munging of tabular data ###\n",
    "\n",
    "# We'll start by loading in all the tabular data and the multi-category labels.\n",
    "# Then we'll process the data all together, to remove any movies with missing data.\n",
    "# Then we'll split into train, validate, test groups, and isolate movie IDs for each\n",
    "\n",
    "\n",
    "if LOAD_FROM_CSV == False:\n",
    "\n",
    "    # Let's load all the raw data\n",
    "    features = pd.read_csv('features_V1.csv')\n",
    "    labels = pd.read_csv('multilabels.csv')\n",
    "\n",
    "    #delete text-based variables, except for overview\n",
    "    features = features.drop(features.columns[[1, 2, 3, 6, 12]], axis=1)\n",
    "\n",
    "    #convert release date string to numeric year\n",
    "    rd = features['release_date'].str[:4]\n",
    "    rd = pd.to_numeric(rd)\n",
    "\n",
    "    features['release_date'] = rd\n",
    "\n",
    "    #drop adult since it is always false\n",
    "    del features['adult']\n",
    "\n",
    "    # drop missing data, duplicates and pop off labels\n",
    "    feat2 = pd.concat([features, labels], axis=1)\n",
    "    feat2 = feat2.drop_duplicates(subset=['id'])\n",
    "    feat2 = feat2.dropna()\n",
    "\n",
    "    labels2 = feat2.iloc[:, 515:].as_matrix()\n",
    "    feat2 = feat2.iloc[:, :515]"
   ]
  },
  {
   "cell_type": "code",
   "execution_count": null,
   "metadata": {
    "collapsed": true,
    "deletable": true,
    "editable": true
   },
   "outputs": [],
   "source": [
    "### Partition dataset into train, validate, and test sets ###\n",
    "\n",
    "# We have a final cleaned dataset of 133,851 movies. Along with this, we start with\n",
    "# 150,854 images and do a 50:25:25 split. We assume image data will be missing at\n",
    "# random, so data loss should be approximately equal across splits.\n",
    "\n",
    "if LOAD_FROM_CSV == False:\n",
    "\n",
    "    # Split our data 50:25:25 into training, validation, and testing sets\n",
    "    X_train, X_test, y_train, y_test = train_test_split(feat2, labels2, test_size=0.50, random_state=42)\n",
    "    X_valid, X_test, y_valid, y_test = train_test_split(X_test, y_test, test_size=0.50, random_state=42)\n",
    "    # We will use these splits to keep the test data in a \"lockbox\" until final model evaluation.\n",
    "\n",
    "    # Now pop off movie IDs from each group to use as keys\n",
    "    train_ids = X_train.pop('id').as_matrix()\n",
    "    valid_ids = X_valid.pop('id').as_matrix()\n",
    "    test_ids = X_test.pop('id').as_matrix()\n",
    "\n",
    "    # Extract overview text from each movie\n",
    "    overview_train = X_train['overview'].tolist()\n",
    "    overview_valid = X_valid['overview'].tolist()\n",
    "    overview_test = X_test['overview'].tolist()"
   ]
  },
  {
   "cell_type": "code",
   "execution_count": null,
   "metadata": {
    "collapsed": true,
    "deletable": true,
    "editable": true
   },
   "outputs": [],
   "source": [
    "# Tokenize overview text for topic modeling\n",
    "\n",
    "def movie_tokenizer(raw, stop_words, stemmer):\n",
    "\n",
    "        try:\n",
    "            \n",
    "            # Tokenize using simple whitespace\n",
    "            tokens = raw.lower().encode('ascii', 'ignore').split()\n",
    "\n",
    "            # Strip useless unicode remnants, numeric, and stop words\n",
    "            # **adapted from http://stackoverflow.com/questions/265960/best-way-to-strip-punctuation-from-a-string-in-python\n",
    "            stripped_tokens = [t.translate(None, string.punctuation+string.digits) for t in tokens if ((not t in stop_words) and (len(t) > 2))]\n",
    "            \n",
    "            # Stem tokens\n",
    "            return [stemmer.stem(t) for t in stripped_tokens]\n",
    "\n",
    "\n",
    "        except:\n",
    "        \n",
    "            # Fill in non-english or missing observations with 'unknown' value\n",
    "            return ['unknown']\n",
    "        "
   ]
  },
  {
   "cell_type": "code",
   "execution_count": null,
   "metadata": {
    "collapsed": true,
    "deletable": true,
    "editable": true
   },
   "outputs": [],
   "source": [
    "# Do corpus preparation for LDA fitting\n",
    "\n",
    "def get_overview_corpus(overview_text):\n",
    "    \n",
    "    # Create English stop words list (hardly any overview are in another language)\n",
    "    en_stop = get_stop_words('en')\n",
    "\n",
    "    # Eliminate genres as words to include, so as not to cheat\n",
    "    full_stop = en_stop + [u'comedy', u'action', u'adventure', \n",
    "                           u'drama', u'family', u'horror', \n",
    "                           u'mystery', u'thriller', u'romance', \n",
    "                           u'crime', u'science fiction', u'fantasy', \n",
    "                           u'animation', u'history', u'war', \n",
    "                           u'music', u'documentary', u'western', u'tv movie']\n",
    "\n",
    "    # Create stemmer\n",
    "    s_stemmer = SnowballStemmer('english')\n",
    "\n",
    "\n",
    "    # Loop through overview list\n",
    "    texts = []\n",
    "    for i in overview_text:\n",
    "        texts.append(movie_tokenizer(i, full_stop, s_stemmer))\n",
    "\n",
    "    # Put tokenized overviews into a id <-> term dictionary\n",
    "    dictionary = corpora.Dictionary(texts)\n",
    "\n",
    "    # Convert tokenized overviews into a document-term matrix - FYI, this is a SPARSE matrix!!\n",
    "    corpus = [dictionary.doc2bow(text) for text in texts]\n",
    "    \n",
    "    return corpus, dictionary\n"
   ]
  },
  {
   "cell_type": "code",
   "execution_count": null,
   "metadata": {
    "collapsed": true,
    "deletable": true,
    "editable": true
   },
   "outputs": [],
   "source": [
    "# Fit a topic model using Latent Dirichlet Allocation.  Fitting the model can \n",
    "# take > 1hr, so we'll save the gensim model by default, to be loaded later\n",
    "\n",
    "def fit_topic_model(overview_text, n_topics=20, doSave=True):\n",
    "\n",
    "    print 'Constructing dictionary'\n",
    "    corpus, dictionary = get_overview_corpus(overview_text)\n",
    "    \n",
    "    # Fit topic model using LDA\n",
    "    print 'Fitting topic model'\n",
    "    overview_topic_mdl = gensim.models.ldamulticore.LdaMulticore(corpus, num_topics=n_topics, id2word=dictionary, passes=20)\n",
    "\n",
    "    if doSave: overview_topic_mdl.save('./topic_mdl')\n",
    "    \n",
    "    return overview_topic_mdl, corpus\n"
   ]
  },
  {
   "cell_type": "code",
   "execution_count": null,
   "metadata": {
    "collapsed": false,
    "deletable": true,
    "editable": true
   },
   "outputs": [],
   "source": [
    "### Topic modeling using Overview text ###\n",
    "\n",
    "# We perform Latent Dirichlet Allocation to try to utilize the Overview text.\n",
    "# We fit the topic model to the training data, and then apply model to all\n",
    "# so there's no \"leakage\" into the test and validation sets.\n",
    "\n",
    "\n",
    "if LOAD_FROM_CSV == False:\n",
    "\n",
    "\n",
    "    FIT_LDA = False\n",
    "    n_topics = 20\n",
    "\n",
    "\n",
    "    if FIT_LDA:\n",
    "         \n",
    "        from stop_words import get_stop_words\n",
    "        from nltk.stem.porter import PorterStemmer\n",
    "        from nltk.stem.snowball import SnowballStemmer\n",
    "        from gensim import corpora, models\n",
    "        import gensim\n",
    "\n",
    "        # Fit a topic model to the training data.  The resulting model will be \n",
    "        # applied to validation and test data as well. Note: takes 1h+ to fit!\n",
    "        overview_topic_mdl, corpus = fit_topic_model(overview_train, n_topics)\n",
    "\n",
    "    else:\n",
    "\n",
    "        # load existing model\n",
    "        overview_topic_mdl = gensim.models.ldamodel.LdaModel.load('./topic_mdl')\n",
    "        corpus, dictionary = get_overview_corpus(overview_train)\n",
    "\n",
    "\n",
    "\n",
    "    # Now apply topic model to each dataset partition to get estimated topic loadings\n",
    "    # and append these values as to data matrix as new features\n",
    "\n",
    "    # --- Training set\n",
    "    tpx = gensim.matutils.corpus2dense(overview_topic_mdl[corpus], n_topics)\n",
    "\n",
    "    # Now append to existing data matrix\n",
    "    tpx_df = pd.DataFrame(tpx.transpose(), index=range(len(corpus)))\n",
    "    X_train.index = range(len(corpus))\n",
    "    X_train = pd.concat([X_train, tpx_df], ignore_index=True, axis=1)\n",
    "    X_train = X_train.drop(X_train.columns[[1]], axis=1)\n",
    "\n",
    "\n",
    "    # --- Validation set\n",
    "    corpus, dictionary = get_overview_corpus(overview_valid)\n",
    "    tpx = gensim.matutils.corpus2dense(overview_topic_mdl[corpus], n_topics)\n",
    "\n",
    "    # Now append to existing data matrix\n",
    "    tpx_df = pd.DataFrame(tpx.transpose(), index=range(len(corpus)))\n",
    "    X_valid.index = range(len(corpus))\n",
    "    X_valid = pd.concat([X_valid, tpx_df], ignore_index=True, axis=1)\n",
    "    X_valid = X_valid.drop(X_valid.columns[[1]], axis=1)\n",
    "\n",
    "\n",
    "    # --- Test set\n",
    "    corpus, dictionary = get_overview_corpus(overview_test)\n",
    "    tpx = gensim.matutils.corpus2dense(overview_topic_mdl[corpus], n_topics)\n",
    "\n",
    "    # Now append to existing data matrix\n",
    "    tpx_df = pd.DataFrame(tpx.transpose(), index=range(len(corpus)))\n",
    "    X_test.index = range(len(corpus))\n",
    "    X_test = pd.concat([X_test, tpx_df], ignore_index=True, axis=1)\n",
    "    X_test = X_test.drop(X_test.columns[[1]], axis=1)"
   ]
  },
  {
   "cell_type": "markdown",
   "metadata": {
    "collapsed": false,
    "deletable": true,
    "editable": true
   },
   "source": [
    "Now, at this point, we've assembled our final data matrices for each of the sets, complete with topic model loadings.  Next we'll start dealing with the image data.  Most, but not all, movies have posters. Similarly, some movies with posters have been excluded because of other missing features.  We'll need to reconcile these discrepancies by loading images and checking their formatting.  Any exceptions will cause the movie to be excluded."
   ]
  },
  {
   "cell_type": "code",
   "execution_count": null,
   "metadata": {
    "collapsed": true,
    "deletable": true,
    "editable": true
   },
   "outputs": [],
   "source": [
    "# Create multi-label metrics to evaluate performance.\n",
    "# These functionas calculate metric within each observation, \n",
    "# and average across observations -just what we need.\n",
    "\n",
    "def multi_recall(y_true, y_pred):\n",
    "    return recall_score(y_true, y_pred, average='samples')\n",
    "\n",
    "def multi_precision(y_true, y_pred):\n",
    "    return precision_score(y_true, y_pred, average='samples')\n",
    "\n",
    "def multi_f1(y_true, y_pred):\n",
    "    return f1_score(y_true, y_pred, average='samples')"
   ]
  },
  {
   "cell_type": "code",
   "execution_count": null,
   "metadata": {
    "collapsed": false,
    "deletable": true,
    "editable": true
   },
   "outputs": [],
   "source": [
    "# Fit RFC on non-image features set and calculate multilabel performance metrics on validation set\n",
    "# We'll hold out the test set until the very end\n",
    "\n",
    "DO_PCA = False\n",
    "\n",
    "if DO_PCA:\n",
    "    N_PCs = 100\n",
    "    # Standardize data\n",
    "    scaler = preprocessing.StandardScaler().fit(X_train)\n",
    "    \n",
    "    # Do PCA, retaining the first N_PCs components\n",
    "    pca = PCA(n_components=N_PCs)\n",
    "    pca.fit(scaler.transform(X_train))\n",
    "    \n",
    "    # Fit RFC on PCs using optimal hyperparameters found from tuning on validation set\n",
    "    rfc_mdl = RFC(n_estimators=300, max_depth=20, max_features=N_PCs, n_jobs=-1).fit(pca.transform(scaler.transform(X_train)), y_train)\n",
    "    rf_pred = rfc_mdl.predict(pca.transform(scaler.transform(X_valid)))\n",
    "\n",
    "else:\n",
    "    # Fit RFC using optimal hyperparameters found from tuning on validation set\n",
    "    rfc_mdl = RFC(n_estimators=300, max_depth=20, max_features=533, n_jobs=-1).fit(X_train, y_train)\n",
    "    rf_pred = rfc_mdl.predict(X_valid)"
   ]
  },
  {
   "cell_type": "code",
   "execution_count": 32,
   "metadata": {
    "collapsed": false,
    "deletable": true,
    "editable": true
   },
   "outputs": [
    {
     "name": "stdout",
     "output_type": "stream",
     "text": [
      "0.415387269018\n",
      "0.526327893768\n",
      "0.445691701807\n"
     ]
    }
   ],
   "source": [
    "print multi_recall(y_valid, rf_pred)\n",
    "print multi_precision(y_valid, rf_pred)\n",
    "print multi_f1(y_valid, rf_pred)"
   ]
  },
  {
   "cell_type": "code",
   "execution_count": 255,
   "metadata": {
    "collapsed": false,
    "deletable": true,
    "editable": true
   },
   "outputs": [
    {
     "name": "stdout",
     "output_type": "stream",
     "text": [
      "CPU times: user 26min 59s, sys: 12.5 s, total: 27min 11s\n",
      "Wall time: 7min 51s\n",
      "n_estimators = 300, max_depth = 20, max_features = 533\n",
      "0.348556782259\n",
      "0.435060005957\n",
      "0.369707389456\n"
     ]
    }
   ],
   "source": [
    "### Tune RFC model using validation set ###\n",
    "\n",
    "# n_estimators=300, max_depth=20, and max_features=533 seems to be optimal (8min run time)\n",
    "\n",
    "r = []\n",
    "p = []\n",
    "f1 = []\n",
    "\n",
    "for n in [10, 20, 50, 100, 200, 300]:\n",
    "    \n",
    "    for d in [10, 20, 50, 100, 200, 300]:\n",
    "        \n",
    "        for f in [10, 25, 50, 100, 200, 300, 500, 533]:\n",
    "\n",
    "            rfc_mdl = RFC(n_estimators=n, max_depth=d, max_features=f, n_jobs=-1).fit(X_train, y_train)\n",
    "            rf_pred = rfc_mdl.predict(X_valid)\n",
    "\n",
    "            r.append(multi_recall(y_valid, rf_pred))\n",
    "            p.append(multi_precision(y_valid, rf_pred))\n",
    "            f1.append(multi_f1(y_valid, rf_pred))\n",
    "\n",
    "            print 'n_estimators = {n}, max_depth = {d}, max_features = {f}'.format(n=n,d=d,f=f)\n",
    "            print multi_recall(y_valid, rf_pred)\n",
    "            print multi_precision(y_valid, rf_pred)\n",
    "            print multi_f1(y_valid, rf_pred)"
   ]
  },
  {
   "cell_type": "code",
   "execution_count": 269,
   "metadata": {
    "collapsed": false,
    "deletable": true,
    "editable": true
   },
   "outputs": [
    {
     "name": "stdout",
     "output_type": "stream",
     "text": [
      "0.447149198663\n",
      "0.349975498674\n",
      "0.376083411573\n",
      "0.192596893479\n",
      "\n",
      "\n",
      "0.265651062685\n",
      "0.303943752642\n",
      "0.258254682018\n",
      "0.300929815025\n"
     ]
    }
   ],
   "source": [
    "### Evaluate RFC on held out test data ###\n",
    "rf_pred = rfc_mdl.predict(X_test)\n",
    "\n",
    "print multi_precision(y_test, rf_pred)\n",
    "print multi_recall(y_test, rf_pred)\n",
    "print multi_f1(y_test, rf_pred)\n",
    "print hamming_loss(y_test, rf_pred)\n",
    "\n",
    "### Compare metrics with random data ###\n",
    "y_probs = y_train.mean(axis=0)\n",
    "\n",
    "random_data = np.column_stack((np.random.binomial(1,y_probs[0],(y_test.shape[0],1)),\n",
    "                             np.random.binomial(1,y_probs[1],(y_test.shape[0],1)),\n",
    "                             np.random.binomial(1,y_probs[2],(y_test.shape[0],1)),\n",
    "                             np.random.binomial(1,y_probs[3],(y_test.shape[0],1)),\n",
    "                             np.random.binomial(1,y_probs[4],(y_test.shape[0],1)),\n",
    "                             np.random.binomial(1,y_probs[5],(y_test.shape[0],1)),\n",
    "                             np.random.binomial(1,y_probs[6],(y_test.shape[0],1))))\n",
    "\n",
    "print '\\n'\n",
    "print multi_precision(y_test, random_data)\n",
    "print multi_recall(y_test, random_data)\n",
    "print multi_f1(y_test, random_data)\n",
    "print hamming_loss(y_test, random_data)"
   ]
  },
  {
   "cell_type": "code",
   "execution_count": 72,
   "metadata": {
    "collapsed": false,
    "deletable": true,
    "editable": true
   },
   "outputs": [],
   "source": [
    "# Generate maxi-batches\n",
    "def get_train_batch(batch_size=3200, verbose=True):\n",
    "    \n",
    "    STANDARDIZE_IMAGES = True\n",
    "\n",
    "    # Randomly select a maxi-batch of images\n",
    "    idx_batch = np.random.choice(np.arange(len(ids_train)), size=batch_size, replace=False)\n",
    "\n",
    "    # Get movie IDs\n",
    "    ids_batch = ids_train[idx_batch]\n",
    "\n",
    "    # Get labels\n",
    "    y_batch = y_train[idx_batch]\n",
    "\n",
    "    # Read in images\n",
    "    X_batch = np.zeros([batch_size, 300, 185, 3])\n",
    "\n",
    "    ct = 0\n",
    "    for i in ids_batch:\n",
    "        IM = ndimage.imread('posters/train/{}.jpg'.format(i[0]))\n",
    "        \n",
    "        try:\n",
    "            \n",
    "            # Standardize **within** each image\n",
    "            if STANDARDIZE_IMAGES:    \n",
    "                # Here we just want to standardize the overall image intensity, \n",
    "                # so we convert to HSV, standardize V-channel, and then convert back to RGB\n",
    "                tmp_im = matplotlib.colors.rgb_to_hsv(IM)\n",
    "                tmp_im[:,:,2] = (tmp_im[:,:,2] - tmp_im[:,:,2].mean()) / tmp_im[:,:,2].std()\n",
    "                IM = matplotlib.colors.hsv_to_rgb(tmp_im)\n",
    "                #IM = (IM - IM.mean()) / IM.std()\n",
    "\n",
    "            X_batch[ct,:,:,:] = IM\n",
    "        \n",
    "        except:\n",
    "            print'Something bad happened when loading movie {}'.format(i[0])\n",
    "\n",
    "        if verbose and (ct % 100 == 0):\n",
    "            print 'poster {i}/{n} loaded'.format(i=ct+1, n=batch_size)\n",
    "\n",
    "        ct += 1\n",
    "\n",
    "    if verbose: print 'batch loaded'\n",
    "\n",
    "    return X_batch, y_batch"
   ]
  },
  {
   "cell_type": "code",
   "execution_count": 73,
   "metadata": {
    "collapsed": true,
    "deletable": true,
    "editable": true
   },
   "outputs": [],
   "source": [
    "# Generate maxi-batches\n",
    "def get_validate_batch(batch_size=3200, verbose=True):\n",
    "\n",
    "    STANDARDIZE_IMAGES = True\n",
    "    \n",
    "    # Randomly select a maxi-batch of images\n",
    "    idx_batch = np.random.choice(np.arange(len(ids_valid)), size=batch_size, replace=False)\n",
    "\n",
    "    # Get movie IDs\n",
    "    ids_batch = ids_valid[idx_batch]\n",
    "\n",
    "    # Get labels\n",
    "    y_batch = y_train[idx_batch]\n",
    "\n",
    "    # Read in images\n",
    "    X_batch = np.zeros([batch_size, 300, 185, 3])\n",
    "\n",
    "    ct = 0\n",
    "    for i in ids_batch:\n",
    "        IM = ndimage.imread('posters/validate/{}.jpg'.format(i[0]))\n",
    "\n",
    "        try:\n",
    "                        \n",
    "            # Standardize **within** each image\n",
    "            if STANDARDIZE_IMAGES:    \n",
    "                # Here we just want to standardize the overall image intensity, \n",
    "                # so we convert to HSV, standardize V-channel, and then convert back to RGB\n",
    "                tmp_im = matplotlib.colors.rgb_to_hsv(IM)\n",
    "                tmp_im[:,:,2] = (tmp_im[:,:,2] - tmp_im[:,:,2].mean()) / tmp_im[:,:,2].std()\n",
    "                IM = matplotlib.colors.hsv_to_rgb(tmp_im)\n",
    "                #IM = (IM - IM.mean()) / IM.std()\n",
    "\n",
    "            X_batch[ct,:,:,:] = IM\n",
    "            \n",
    "        except:\n",
    "            print'Something bad happened when loading movie {}'.format(i[0])\n",
    "\n",
    "        if verbose and (ct % 100 == 0):\n",
    "            print 'poster {i}/{n} loaded'.format(i=ct+1, n=batch_size)\n",
    "\n",
    "        ct += 1\n",
    "\n",
    "    if verbose: print 'batch loaded'\n",
    "\n",
    "    return X_batch, y_batch"
   ]
  },
  {
   "cell_type": "code",
   "execution_count": 74,
   "metadata": {
    "collapsed": false,
    "deletable": true,
    "editable": true
   },
   "outputs": [
    {
     "name": "stdout",
     "output_type": "stream",
     "text": [
      "_________________________________________________________________\n",
      "Layer (type)                 Output Shape              Param #   \n",
      "=================================================================\n",
      "conv2d_49 (Conv2D)           (None, 298, 183, 32)      896       \n",
      "_________________________________________________________________\n",
      "conv2d_50 (Conv2D)           (None, 296, 181, 32)      9248      \n",
      "_________________________________________________________________\n",
      "max_pooling2d_25 (MaxPooling (None, 148, 90, 32)       0         \n",
      "_________________________________________________________________\n",
      "dropout_37 (Dropout)         (None, 148, 90, 32)       0         \n",
      "_________________________________________________________________\n",
      "conv2d_51 (Conv2D)           (None, 146, 88, 64)       18496     \n",
      "_________________________________________________________________\n",
      "conv2d_52 (Conv2D)           (None, 144, 86, 64)       36928     \n",
      "_________________________________________________________________\n",
      "max_pooling2d_26 (MaxPooling (None, 72, 43, 64)        0         \n",
      "_________________________________________________________________\n",
      "dropout_38 (Dropout)         (None, 72, 43, 64)        0         \n",
      "_________________________________________________________________\n",
      "flatten_13 (Flatten)         (None, 198144)            0         \n",
      "_________________________________________________________________\n",
      "dense_25 (Dense)             (None, 256)               50725120  \n",
      "_________________________________________________________________\n",
      "dropout_39 (Dropout)         (None, 256)               0         \n",
      "_________________________________________________________________\n",
      "dense_26 (Dense)             (None, 7)                 1799      \n",
      "=================================================================\n",
      "Total params: 50,792,487.0\n",
      "Trainable params: 50,792,487.0\n",
      "Non-trainable params: 0.0\n",
      "_________________________________________________________________\n"
     ]
    }
   ],
   "source": [
    "# Build CNN model\n",
    "\n",
    "model_1 = Sequential()\n",
    "\n",
    "# input: 300x185 images with 3 channels -> (300, 185, 3) tensors.\n",
    "# this applies 32 convolution filters of size 3x3 each.\n",
    "# NoteL we're not completely covering the images here\n",
    "model_1.add(Conv2D(32, (3, 3), activation='relu', input_shape=(300, 185, 3)))\n",
    "model_1.add(Conv2D(32, (3, 3), activation='relu'))\n",
    "model_1.add(MaxPooling2D(pool_size=(2, 2)))\n",
    "model_1.add(Dropout(0.25))\n",
    "\n",
    "model_1.add(Conv2D(64, (3, 3), activation='relu'))\n",
    "model_1.add(Conv2D(64, (3, 3), activation='relu'))\n",
    "model_1.add(MaxPooling2D(pool_size=(2, 2)))\n",
    "model_1.add(Dropout(0.25))\n",
    "\n",
    "model_1.add(Flatten())\n",
    "model_1.add(Dense(256, activation='relu'))\n",
    "model_1.add(Dropout(0.5))\n",
    "model_1.add(Dense(7, activation='sigmoid'))\n",
    "\n",
    "model_1.compile(loss='binary_crossentropy', optimizer='rmsprop', metrics=['binary_accuracy'])\n",
    "\n",
    "# Other optimizer parameters\n",
    "#model_1.compile(loss='binary_crossentropy', optimizer='Adam', metrics=['binary_accuracy'])\n",
    "#sgd = SGD(lr=0.0001, decay=1e-6, momentum=0.9, nesterov=True)\n",
    "#model_1.compile(loss='binary_crossentropy', optimizer=sgd, metrics=['binary_accuracy'])\n",
    "\n",
    "model_1.summary()\n",
    "\n",
    "# Visualize network graph\n",
    "#SVG(model_to_dot(model_1).create(prog='dot', format='svg'))"
   ]
  },
  {
   "cell_type": "code",
   "execution_count": null,
   "metadata": {
    "collapsed": false,
    "deletable": true,
    "editable": true,
    "scrolled": true
   },
   "outputs": [],
   "source": [
    "### Fit CNN model using maxi-batches\n",
    "\n",
    "# 200 iterations over maxi-batches gives us about 1X coverage of all training data\n",
    "n_it = 300\n",
    "\n",
    "# Write to persistent storage on EFS\n",
    "TB_callback = keras.callbacks.TensorBoard(log_dir='/home/ubuntu/efs/logs')\n",
    "valid_auc = []\n",
    "\n",
    "for i in range(n_it):\n",
    "    \n",
    "    print i\n",
    "    X_batch, y_batch = get_train_batch(320, verbose=False)\n",
    "\n",
    "    # Run in mini-batches of size=32\n",
    "    history = model_1.fit(X_batch, y_batch, batch_size=32, verbose=1, epochs=10, callbacks=[TB_callback])\n",
    "    \n",
    "    # Test on validation batch after each maxi-batch\n",
    "    X_batch, y_batch = get_validate_batch(1024, verbose=False)\n",
    "    y_pred = model_1.predict(X_batch)\n",
    "    auc = roc_auc_score(y_batch, y_pred)\n",
    "    valid_auc.append(auc)\n",
    "    print 'ROC AUC = {}'.format(auc)\n",
    "\n",
    "    # Save model periodically to avoid catastrophic loss\n",
    "    if i % 5 == 0:\n",
    "        print 'saving'\n",
    "        model_1.save('/home/ubuntu/efs/conv_movie_model.h5')\n",
    "\n",
    "# Save model at very end, too\n",
    "model_1.save('/home/ubuntu/efs/conv_movie_model.h5')"
   ]
  },
  {
   "cell_type": "code",
   "execution_count": 62,
   "metadata": {
    "collapsed": false
   },
   "outputs": [],
   "source": [
    "X_batch, y_batch = get_validate_batch(10000, verbose=False)\n",
    "y_pred = model_1.predict(X_batch)"
   ]
  },
  {
   "cell_type": "code",
   "execution_count": 63,
   "metadata": {
    "collapsed": false
   },
   "outputs": [
    {
     "data": {
      "text/plain": [
       "<matplotlib.text.Text at 0x7fc904e0c310>"
      ]
     },
     "execution_count": 63,
     "metadata": {},
     "output_type": "execute_result"
    },
    {
     "data": {
      "image/png": "[encoded data removed]",
      "text/plain": [
       "<matplotlib.figure.Figure at 0x7fc904e407d0>"
      ]
     },
     "metadata": {},
     "output_type": "display_data"
    }
   ],
   "source": [
    "# This is for large batch size, high iteration model - all predicted the same\n",
    "plt.figure(figsize=[10,5])\n",
    "plt.pcolor(y_pred[:1000])\n",
    "plt.colorbar()\n",
    "plt.title('Predicted multi-label probabilities for 1000 test observations')"
   ]
  },
  {
   "cell_type": "code",
   "execution_count": 39,
   "metadata": {
    "collapsed": false
   },
   "outputs": [
    {
     "data": {
      "text/plain": [
       "[<matplotlib.lines.Line2D at 0x7fc9abf1b450>]"
      ]
     },
     "execution_count": 39,
     "metadata": {},
     "output_type": "execute_result"
    },
    {
     "data": {
      "image/png": "[encoded data removed]",
      "text/plain": [
       "<matplotlib.figure.Figure at 0x7fc9b5b21b90>"
      ]
     },
     "metadata": {},
     "output_type": "display_data"
    }
   ],
   "source": [
    "# Long run saved as Model_3 = maxi-batch=320, epochs=10, valid-batch=1000\n",
    "plt.figure(figsize=[10,5])\n",
    "plt.plot(valid_auc_long)"
   ]
  },
  {
   "cell_type": "code",
   "execution_count": 60,
   "metadata": {
    "collapsed": false
   },
   "outputs": [
    {
     "data": {
      "text/plain": [
       "<matplotlib.text.Text at 0x7fc90583a390>"
      ]
     },
     "execution_count": 60,
     "metadata": {},
     "output_type": "execute_result"
    },
    {
     "data": {
      "image/png": "[encoded data removed]",
      "text/plain": [
       "<matplotlib.figure.Figure at 0x7fc9058f9790>"
      ]
     },
     "metadata": {},
     "output_type": "display_data"
    }
   ],
   "source": [
    "# This is for small batch size, low iteration model\n",
    "plt.figure(figsize=[10,5])\n",
    "plt.pcolor(y_pred[:1000])\n",
    "plt.colorbar()\n",
    "plt.title('Predicted multi-label probabilities for 1000 test observations')"
   ]
  },
  {
   "cell_type": "code",
   "execution_count": 67,
   "metadata": {
    "collapsed": false
   },
   "outputs": [
    {
     "data": {
      "text/plain": [
       "<matplotlib.text.Text at 0x7fc90633ae90>"
      ]
     },
     "execution_count": 67,
     "metadata": {},
     "output_type": "execute_result"
    },
    {
     "data": {
      "image/png": "[encoded data removed]",
      "text/plain": [
       "<matplotlib.figure.Figure at 0x7fc907cc05d0>"
      ]
     },
     "metadata": {},
     "output_type": "display_data"
    }
   ],
   "source": [
    "# This is for small batch size, low iteration model\n",
    "plt.figure(figsize=[10, 5])\n",
    "plt.plot(history.history['loss'])\n",
    "plt.ylabel('loss')\n",
    "plt.xlabel('epoch')\n",
    "plt.title('Training loss of reduced CNN model (trained on 1024 posters)')"
   ]
  },
  {
   "cell_type": "code",
   "execution_count": 56,
   "metadata": {
    "collapsed": false
   },
   "outputs": [
    {
     "name": "stdout",
     "output_type": "stream",
     "text": [
      "\n",
      "\n",
      "0.497124822411\n"
     ]
    },
    {
     "data": {
      "image/png": "[encoded data removed]",
      "text/plain": [
       "<matplotlib.figure.Figure at 0x7fc9062e7690>"
      ]
     },
     "metadata": {},
     "output_type": "display_data"
    }
   ],
   "source": [
    "# Plot ROC curves for each genre category\n",
    "plt.figure(figsize=[10,10])\n",
    "plt.hold\n",
    "\n",
    "for i in range(7):\n",
    "    fpr, tpr, thresholds = roc_curve(y_batch[:,i], y_pred[:,i])\n",
    "    score = roc_auc_score(y_batch[:,i], y_pred[:,i])\n",
    "    plt.plot(fpr, tpr, lw=2, label='Class {c} (AUC={auc:.3f})'.format(c=i, auc=score))\n",
    "\n",
    "plt.legend(loc=4)\n",
    "plt.title('ROC curves for individual genre categories')\n",
    "plt.xlabel('false positive rate'); plt.ylabel('true positive rate')\n",
    "\n",
    "score = roc_auc_score(y_batch, y_pred)\n",
    "print '\\n'\n",
    "print score"
   ]
  },
  {
   "cell_type": "code",
   "execution_count": null,
   "metadata": {
    "collapsed": true,
    "deletable": true,
    "editable": true
   },
   "outputs": [],
   "source": []
  }
 ],
 "metadata": {
  "anaconda-cloud": {},
  "kernelspec": {
   "display_name": "Python 2",
   "language": "python",
   "name": "python2"
  },
  "language_info": {
   "codemirror_mode": {
    "name": "ipython",
    "version": 2
   },
   "file_extension": ".py",
   "mimetype": "text/x-python",
   "name": "python",
   "nbconvert_exporter": "python",
   "pygments_lexer": "ipython2",
   "version": "2.7.12"
  }
 },
 "nbformat": 4,
 "nbformat_minor": 2
}
