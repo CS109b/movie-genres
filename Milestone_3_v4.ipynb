{
 "cells": [
  {
   "cell_type": "markdown",
   "metadata": {},
   "source": [
    "# Milestone 3: Genre Prediction Using Standard ML Classifiers"
   ]
  },
  {
   "cell_type": "code",
   "execution_count": 3,
   "metadata": {
    "collapsed": false
   },
   "outputs": [],
   "source": [
    "import pandas as pd\n",
    "import numpy as np\n",
    "import matplotlib.pyplot as plt\n",
    "import matplotlib\n",
    "%matplotlib inline\n",
    "\n",
    "from sklearn.model_selection import KFold\n",
    "from sklearn.ensemble import RandomForestClassifier as RFC\n",
    "from sklearn.ensemble import AdaBoostClassifier as AdaBoost\n",
    "from sklearn.multiclass import OneVsRestClassifier\n",
    "from sklearn.svm import SVC\n",
    "from sklearn.metrics import hamming_loss\n",
    "from sklearn.model_selection import train_test_split\n",
    "from sklearn.preprocessing import Imputer\n",
    "from sklearn.decomposition import PCA\n",
    "from sklearn import preprocessing\n",
    "\n",
    "from stop_words import get_stop_words\n",
    "from nltk.stem.porter import PorterStemmer\n",
    "from nltk.stem.snowball import SnowballStemmer\n",
    "from gensim import corpora, models\n",
    "import gensim\n",
    "\n",
    "import string\n",
    "import time\n",
    "from datetime import datetime\n",
    "from __future__ import division"
   ]
  },
  {
   "cell_type": "markdown",
   "metadata": {},
   "source": [
    "Let's begin by loading and examining our raw dataset, containing data obtained through the TMDB API and saved previously as a CSV file."
   ]
  },
  {
   "cell_type": "code",
   "execution_count": 5,
   "metadata": {
    "collapsed": false
   },
   "outputs": [
    {
     "ename": "IOError",
     "evalue": "File features_V1.csv does not exist",
     "output_type": "error",
     "traceback": [
      "\u001b[0;31m---------------------------------------------------------------------------\u001b[0m",
      "\u001b[0;31mIOError\u001b[0m                                   Traceback (most recent call last)",
      "\u001b[0;32m<ipython-input-5-68eea3862852>\u001b[0m in \u001b[0;36m<module>\u001b[0;34m()\u001b[0m\n\u001b[0;32m----> 1\u001b[0;31m \u001b[0mfeatures\u001b[0m \u001b[1;33m=\u001b[0m \u001b[0mpd\u001b[0m\u001b[1;33m.\u001b[0m\u001b[0mread_csv\u001b[0m\u001b[1;33m(\u001b[0m\u001b[1;34m'features_V1.csv'\u001b[0m\u001b[1;33m)\u001b[0m\u001b[1;33m\u001b[0m\u001b[0m\n\u001b[0m",
      "\u001b[0;32mC:\\Users\\Joeseph\\Anaconda2\\lib\\site-packages\\pandas\\io\\parsers.pyc\u001b[0m in \u001b[0;36mparser_f\u001b[0;34m(filepath_or_buffer, sep, delimiter, header, names, index_col, usecols, squeeze, prefix, mangle_dupe_cols, dtype, engine, converters, true_values, false_values, skipinitialspace, skiprows, skipfooter, nrows, na_values, keep_default_na, na_filter, verbose, skip_blank_lines, parse_dates, infer_datetime_format, keep_date_col, date_parser, dayfirst, iterator, chunksize, compression, thousands, decimal, lineterminator, quotechar, quoting, escapechar, comment, encoding, dialect, tupleize_cols, error_bad_lines, warn_bad_lines, skip_footer, doublequote, delim_whitespace, as_recarray, compact_ints, use_unsigned, low_memory, buffer_lines, memory_map, float_precision)\u001b[0m\n\u001b[1;32m    560\u001b[0m                     skip_blank_lines=skip_blank_lines)\n\u001b[1;32m    561\u001b[0m \u001b[1;33m\u001b[0m\u001b[0m\n\u001b[0;32m--> 562\u001b[0;31m         \u001b[1;32mreturn\u001b[0m \u001b[0m_read\u001b[0m\u001b[1;33m(\u001b[0m\u001b[0mfilepath_or_buffer\u001b[0m\u001b[1;33m,\u001b[0m \u001b[0mkwds\u001b[0m\u001b[1;33m)\u001b[0m\u001b[1;33m\u001b[0m\u001b[0m\n\u001b[0m\u001b[1;32m    563\u001b[0m \u001b[1;33m\u001b[0m\u001b[0m\n\u001b[1;32m    564\u001b[0m     \u001b[0mparser_f\u001b[0m\u001b[1;33m.\u001b[0m\u001b[0m__name__\u001b[0m \u001b[1;33m=\u001b[0m \u001b[0mname\u001b[0m\u001b[1;33m\u001b[0m\u001b[0m\n",
      "\u001b[0;32mC:\\Users\\Joeseph\\Anaconda2\\lib\\site-packages\\pandas\\io\\parsers.pyc\u001b[0m in \u001b[0;36m_read\u001b[0;34m(filepath_or_buffer, kwds)\u001b[0m\n\u001b[1;32m    313\u001b[0m \u001b[1;33m\u001b[0m\u001b[0m\n\u001b[1;32m    314\u001b[0m     \u001b[1;31m# Create the parser.\u001b[0m\u001b[1;33m\u001b[0m\u001b[1;33m\u001b[0m\u001b[0m\n\u001b[0;32m--> 315\u001b[0;31m     \u001b[0mparser\u001b[0m \u001b[1;33m=\u001b[0m \u001b[0mTextFileReader\u001b[0m\u001b[1;33m(\u001b[0m\u001b[0mfilepath_or_buffer\u001b[0m\u001b[1;33m,\u001b[0m \u001b[1;33m**\u001b[0m\u001b[0mkwds\u001b[0m\u001b[1;33m)\u001b[0m\u001b[1;33m\u001b[0m\u001b[0m\n\u001b[0m\u001b[1;32m    316\u001b[0m \u001b[1;33m\u001b[0m\u001b[0m\n\u001b[1;32m    317\u001b[0m     \u001b[1;32mif\u001b[0m \u001b[1;33m(\u001b[0m\u001b[0mnrows\u001b[0m \u001b[1;32mis\u001b[0m \u001b[1;32mnot\u001b[0m \u001b[0mNone\u001b[0m\u001b[1;33m)\u001b[0m \u001b[1;32mand\u001b[0m \u001b[1;33m(\u001b[0m\u001b[0mchunksize\u001b[0m \u001b[1;32mis\u001b[0m \u001b[1;32mnot\u001b[0m \u001b[0mNone\u001b[0m\u001b[1;33m)\u001b[0m\u001b[1;33m:\u001b[0m\u001b[1;33m\u001b[0m\u001b[0m\n",
      "\u001b[0;32mC:\\Users\\Joeseph\\Anaconda2\\lib\\site-packages\\pandas\\io\\parsers.pyc\u001b[0m in \u001b[0;36m__init__\u001b[0;34m(self, f, engine, **kwds)\u001b[0m\n\u001b[1;32m    643\u001b[0m             \u001b[0mself\u001b[0m\u001b[1;33m.\u001b[0m\u001b[0moptions\u001b[0m\u001b[1;33m[\u001b[0m\u001b[1;34m'has_index_names'\u001b[0m\u001b[1;33m]\u001b[0m \u001b[1;33m=\u001b[0m \u001b[0mkwds\u001b[0m\u001b[1;33m[\u001b[0m\u001b[1;34m'has_index_names'\u001b[0m\u001b[1;33m]\u001b[0m\u001b[1;33m\u001b[0m\u001b[0m\n\u001b[1;32m    644\u001b[0m \u001b[1;33m\u001b[0m\u001b[0m\n\u001b[0;32m--> 645\u001b[0;31m         \u001b[0mself\u001b[0m\u001b[1;33m.\u001b[0m\u001b[0m_make_engine\u001b[0m\u001b[1;33m(\u001b[0m\u001b[0mself\u001b[0m\u001b[1;33m.\u001b[0m\u001b[0mengine\u001b[0m\u001b[1;33m)\u001b[0m\u001b[1;33m\u001b[0m\u001b[0m\n\u001b[0m\u001b[1;32m    646\u001b[0m \u001b[1;33m\u001b[0m\u001b[0m\n\u001b[1;32m    647\u001b[0m     \u001b[1;32mdef\u001b[0m \u001b[0mclose\u001b[0m\u001b[1;33m(\u001b[0m\u001b[0mself\u001b[0m\u001b[1;33m)\u001b[0m\u001b[1;33m:\u001b[0m\u001b[1;33m\u001b[0m\u001b[0m\n",
      "\u001b[0;32mC:\\Users\\Joeseph\\Anaconda2\\lib\\site-packages\\pandas\\io\\parsers.pyc\u001b[0m in \u001b[0;36m_make_engine\u001b[0;34m(self, engine)\u001b[0m\n\u001b[1;32m    797\u001b[0m     \u001b[1;32mdef\u001b[0m \u001b[0m_make_engine\u001b[0m\u001b[1;33m(\u001b[0m\u001b[0mself\u001b[0m\u001b[1;33m,\u001b[0m \u001b[0mengine\u001b[0m\u001b[1;33m=\u001b[0m\u001b[1;34m'c'\u001b[0m\u001b[1;33m)\u001b[0m\u001b[1;33m:\u001b[0m\u001b[1;33m\u001b[0m\u001b[0m\n\u001b[1;32m    798\u001b[0m         \u001b[1;32mif\u001b[0m \u001b[0mengine\u001b[0m \u001b[1;33m==\u001b[0m \u001b[1;34m'c'\u001b[0m\u001b[1;33m:\u001b[0m\u001b[1;33m\u001b[0m\u001b[0m\n\u001b[0;32m--> 799\u001b[0;31m             \u001b[0mself\u001b[0m\u001b[1;33m.\u001b[0m\u001b[0m_engine\u001b[0m \u001b[1;33m=\u001b[0m \u001b[0mCParserWrapper\u001b[0m\u001b[1;33m(\u001b[0m\u001b[0mself\u001b[0m\u001b[1;33m.\u001b[0m\u001b[0mf\u001b[0m\u001b[1;33m,\u001b[0m \u001b[1;33m**\u001b[0m\u001b[0mself\u001b[0m\u001b[1;33m.\u001b[0m\u001b[0moptions\u001b[0m\u001b[1;33m)\u001b[0m\u001b[1;33m\u001b[0m\u001b[0m\n\u001b[0m\u001b[1;32m    800\u001b[0m         \u001b[1;32melse\u001b[0m\u001b[1;33m:\u001b[0m\u001b[1;33m\u001b[0m\u001b[0m\n\u001b[1;32m    801\u001b[0m             \u001b[1;32mif\u001b[0m \u001b[0mengine\u001b[0m \u001b[1;33m==\u001b[0m \u001b[1;34m'python'\u001b[0m\u001b[1;33m:\u001b[0m\u001b[1;33m\u001b[0m\u001b[0m\n",
      "\u001b[0;32mC:\\Users\\Joeseph\\Anaconda2\\lib\\site-packages\\pandas\\io\\parsers.pyc\u001b[0m in \u001b[0;36m__init__\u001b[0;34m(self, src, **kwds)\u001b[0m\n\u001b[1;32m   1211\u001b[0m         \u001b[0mkwds\u001b[0m\u001b[1;33m[\u001b[0m\u001b[1;34m'allow_leading_cols'\u001b[0m\u001b[1;33m]\u001b[0m \u001b[1;33m=\u001b[0m \u001b[0mself\u001b[0m\u001b[1;33m.\u001b[0m\u001b[0mindex_col\u001b[0m \u001b[1;32mis\u001b[0m \u001b[1;32mnot\u001b[0m \u001b[0mFalse\u001b[0m\u001b[1;33m\u001b[0m\u001b[0m\n\u001b[1;32m   1212\u001b[0m \u001b[1;33m\u001b[0m\u001b[0m\n\u001b[0;32m-> 1213\u001b[0;31m         \u001b[0mself\u001b[0m\u001b[1;33m.\u001b[0m\u001b[0m_reader\u001b[0m \u001b[1;33m=\u001b[0m \u001b[0m_parser\u001b[0m\u001b[1;33m.\u001b[0m\u001b[0mTextReader\u001b[0m\u001b[1;33m(\u001b[0m\u001b[0msrc\u001b[0m\u001b[1;33m,\u001b[0m \u001b[1;33m**\u001b[0m\u001b[0mkwds\u001b[0m\u001b[1;33m)\u001b[0m\u001b[1;33m\u001b[0m\u001b[0m\n\u001b[0m\u001b[1;32m   1214\u001b[0m \u001b[1;33m\u001b[0m\u001b[0m\n\u001b[1;32m   1215\u001b[0m         \u001b[1;31m# XXX\u001b[0m\u001b[1;33m\u001b[0m\u001b[1;33m\u001b[0m\u001b[0m\n",
      "\u001b[0;32mpandas\\parser.pyx\u001b[0m in \u001b[0;36mpandas.parser.TextReader.__cinit__ (pandas\\parser.c:3427)\u001b[0;34m()\u001b[0m\n",
      "\u001b[0;32mpandas\\parser.pyx\u001b[0m in \u001b[0;36mpandas.parser.TextReader._setup_parser_source (pandas\\parser.c:6861)\u001b[0;34m()\u001b[0m\n",
      "\u001b[0;31mIOError\u001b[0m: File features_V1.csv does not exist"
     ]
    }
   ],
   "source": [
    "%cd ./Train_Data_Version_1/\n",
    "features = pd.read_csv('features_V1.csv')"
   ]
  },
  {
   "cell_type": "code",
   "execution_count": 3,
   "metadata": {
    "collapsed": false
   },
   "outputs": [
    {
     "data": {
      "text/html": [
       "<div>\n",
       "<table border=\"1\" class=\"dataframe\">\n",
       "  <thead>\n",
       "    <tr style=\"text-align: right;\">\n",
       "      <th></th>\n",
       "      <th>id</th>\n",
       "      <th>imdb_id</th>\n",
       "      <th>title</th>\n",
       "      <th>original_title</th>\n",
       "      <th>release_date</th>\n",
       "      <th>overview</th>\n",
       "      <th>tagline</th>\n",
       "      <th>budget</th>\n",
       "      <th>revenue</th>\n",
       "      <th>popularity</th>\n",
       "      <th>...</th>\n",
       "      <th>spoken_languages_ur</th>\n",
       "      <th>spoken_languages_uz</th>\n",
       "      <th>spoken_languages_vi</th>\n",
       "      <th>spoken_languages_wo</th>\n",
       "      <th>spoken_languages_xh</th>\n",
       "      <th>spoken_languages_xx</th>\n",
       "      <th>spoken_languages_yi</th>\n",
       "      <th>spoken_languages_za</th>\n",
       "      <th>spoken_languages_zh</th>\n",
       "      <th>spoken_languages_zu</th>\n",
       "    </tr>\n",
       "  </thead>\n",
       "  <tbody>\n",
       "    <tr>\n",
       "      <th>0</th>\n",
       "      <td>10895</td>\n",
       "      <td>tt0032910</td>\n",
       "      <td>Pinocchio</td>\n",
       "      <td>Pinocchio</td>\n",
       "      <td>1940-02-23</td>\n",
       "      <td>Lonely toymaker Geppetto has his wishes answer...</td>\n",
       "      <td>For anyone who has ever wished upon a star.</td>\n",
       "      <td>2600000</td>\n",
       "      <td>84300000</td>\n",
       "      <td>2.418732</td>\n",
       "      <td>...</td>\n",
       "      <td>0</td>\n",
       "      <td>0</td>\n",
       "      <td>0</td>\n",
       "      <td>0</td>\n",
       "      <td>0</td>\n",
       "      <td>0</td>\n",
       "      <td>0</td>\n",
       "      <td>0</td>\n",
       "      <td>0</td>\n",
       "      <td>0</td>\n",
       "    </tr>\n",
       "    <tr>\n",
       "      <th>1</th>\n",
       "      <td>223</td>\n",
       "      <td>tt0032976</td>\n",
       "      <td>Rebecca</td>\n",
       "      <td>Rebecca</td>\n",
       "      <td>1940-04-12</td>\n",
       "      <td>A self-conscious bride is tormented by the mem...</td>\n",
       "      <td>The shadow of this woman darkened their love.</td>\n",
       "      <td>1288000</td>\n",
       "      <td>6000000</td>\n",
       "      <td>1.583448</td>\n",
       "      <td>...</td>\n",
       "      <td>0</td>\n",
       "      <td>0</td>\n",
       "      <td>0</td>\n",
       "      <td>0</td>\n",
       "      <td>0</td>\n",
       "      <td>0</td>\n",
       "      <td>0</td>\n",
       "      <td>0</td>\n",
       "      <td>0</td>\n",
       "      <td>0</td>\n",
       "    </tr>\n",
       "    <tr>\n",
       "      <th>2</th>\n",
       "      <td>756</td>\n",
       "      <td>tt0032455</td>\n",
       "      <td>Fantasia</td>\n",
       "      <td>Fantasia</td>\n",
       "      <td>1940-11-13</td>\n",
       "      <td>Fantasia is the adventurous 1940 experiment fr...</td>\n",
       "      <td>Hear the pictures! See the music!</td>\n",
       "      <td>2280000</td>\n",
       "      <td>83320000</td>\n",
       "      <td>1.498824</td>\n",
       "      <td>...</td>\n",
       "      <td>0</td>\n",
       "      <td>0</td>\n",
       "      <td>0</td>\n",
       "      <td>0</td>\n",
       "      <td>0</td>\n",
       "      <td>0</td>\n",
       "      <td>0</td>\n",
       "      <td>0</td>\n",
       "      <td>0</td>\n",
       "      <td>0</td>\n",
       "    </tr>\n",
       "    <tr>\n",
       "      <th>3</th>\n",
       "      <td>981</td>\n",
       "      <td>tt0032904</td>\n",
       "      <td>The Philadelphia Story</td>\n",
       "      <td>The Philadelphia Story</td>\n",
       "      <td>1940-12-01</td>\n",
       "      <td>Philadelphia heiress Tracy Lord throws out her...</td>\n",
       "      <td>Broadway's howling year-run comedy hit of the ...</td>\n",
       "      <td>0</td>\n",
       "      <td>0</td>\n",
       "      <td>1.113673</td>\n",
       "      <td>...</td>\n",
       "      <td>0</td>\n",
       "      <td>0</td>\n",
       "      <td>0</td>\n",
       "      <td>0</td>\n",
       "      <td>0</td>\n",
       "      <td>0</td>\n",
       "      <td>0</td>\n",
       "      <td>0</td>\n",
       "      <td>0</td>\n",
       "      <td>0</td>\n",
       "    </tr>\n",
       "    <tr>\n",
       "      <th>4</th>\n",
       "      <td>914</td>\n",
       "      <td>tt0032553</td>\n",
       "      <td>The Great Dictator</td>\n",
       "      <td>The Great Dictator</td>\n",
       "      <td>1940-10-15</td>\n",
       "      <td>Dictator Adenoid Hynkel tries to expand his em...</td>\n",
       "      <td>Once again - the whole world laughs!</td>\n",
       "      <td>2000000</td>\n",
       "      <td>11000000</td>\n",
       "      <td>1.005436</td>\n",
       "      <td>...</td>\n",
       "      <td>0</td>\n",
       "      <td>0</td>\n",
       "      <td>0</td>\n",
       "      <td>0</td>\n",
       "      <td>0</td>\n",
       "      <td>0</td>\n",
       "      <td>0</td>\n",
       "      <td>0</td>\n",
       "      <td>0</td>\n",
       "      <td>0</td>\n",
       "    </tr>\n",
       "  </tbody>\n",
       "</table>\n",
       "<p>5 rows × 521 columns</p>\n",
       "</div>"
      ],
      "text/plain": [
       "      id    imdb_id                   title          original_title  \\\n",
       "0  10895  tt0032910               Pinocchio               Pinocchio   \n",
       "1    223  tt0032976                 Rebecca                 Rebecca   \n",
       "2    756  tt0032455                Fantasia                Fantasia   \n",
       "3    981  tt0032904  The Philadelphia Story  The Philadelphia Story   \n",
       "4    914  tt0032553      The Great Dictator      The Great Dictator   \n",
       "\n",
       "  release_date                                           overview  \\\n",
       "0   1940-02-23  Lonely toymaker Geppetto has his wishes answer...   \n",
       "1   1940-04-12  A self-conscious bride is tormented by the mem...   \n",
       "2   1940-11-13  Fantasia is the adventurous 1940 experiment fr...   \n",
       "3   1940-12-01  Philadelphia heiress Tracy Lord throws out her...   \n",
       "4   1940-10-15  Dictator Adenoid Hynkel tries to expand his em...   \n",
       "\n",
       "                                             tagline   budget   revenue  \\\n",
       "0        For anyone who has ever wished upon a star.  2600000  84300000   \n",
       "1      The shadow of this woman darkened their love.  1288000   6000000   \n",
       "2                  Hear the pictures! See the music!  2280000  83320000   \n",
       "3  Broadway's howling year-run comedy hit of the ...        0         0   \n",
       "4               Once again - the whole world laughs!  2000000  11000000   \n",
       "\n",
       "   popularity         ...           spoken_languages_ur  spoken_languages_uz  \\\n",
       "0    2.418732         ...                             0                    0   \n",
       "1    1.583448         ...                             0                    0   \n",
       "2    1.498824         ...                             0                    0   \n",
       "3    1.113673         ...                             0                    0   \n",
       "4    1.005436         ...                             0                    0   \n",
       "\n",
       "  spoken_languages_vi  spoken_languages_wo spoken_languages_xh  \\\n",
       "0                   0                    0                   0   \n",
       "1                   0                    0                   0   \n",
       "2                   0                    0                   0   \n",
       "3                   0                    0                   0   \n",
       "4                   0                    0                   0   \n",
       "\n",
       "   spoken_languages_xx  spoken_languages_yi  spoken_languages_za  \\\n",
       "0                    0                    0                    0   \n",
       "1                    0                    0                    0   \n",
       "2                    0                    0                    0   \n",
       "3                    0                    0                    0   \n",
       "4                    0                    0                    0   \n",
       "\n",
       "   spoken_languages_zh  spoken_languages_zu  \n",
       "0                    0                    0  \n",
       "1                    0                    0  \n",
       "2                    0                    0  \n",
       "3                    0                    0  \n",
       "4                    0                    0  \n",
       "\n",
       "[5 rows x 521 columns]"
      ]
     },
     "execution_count": 3,
     "metadata": {},
     "output_type": "execute_result"
    }
   ],
   "source": [
    "features.head(5)"
   ]
  },
  {
   "cell_type": "markdown",
   "metadata": {},
   "source": [
    "Next we'll load our previously dummy-coded genre labels and verify they look as expected."
   ]
  },
  {
   "cell_type": "code",
   "execution_count": 4,
   "metadata": {
    "collapsed": true
   },
   "outputs": [],
   "source": [
    "labels = pd.read_csv('multilabels.csv')"
   ]
  },
  {
   "cell_type": "code",
   "execution_count": 5,
   "metadata": {
    "collapsed": false
   },
   "outputs": [
    {
     "data": {
      "text/html": [
       "<div>\n",
       "<table border=\"1\" class=\"dataframe\">\n",
       "  <thead>\n",
       "    <tr style=\"text-align: right;\">\n",
       "      <th></th>\n",
       "      <th>Action</th>\n",
       "      <th>Drama</th>\n",
       "      <th>Comedy</th>\n",
       "      <th>Family</th>\n",
       "      <th>Romance</th>\n",
       "      <th>Documentary</th>\n",
       "      <th>Horror</th>\n",
       "    </tr>\n",
       "  </thead>\n",
       "  <tbody>\n",
       "    <tr>\n",
       "      <th>0</th>\n",
       "      <td>0</td>\n",
       "      <td>0</td>\n",
       "      <td>0</td>\n",
       "      <td>1</td>\n",
       "      <td>0</td>\n",
       "      <td>0</td>\n",
       "      <td>0</td>\n",
       "    </tr>\n",
       "    <tr>\n",
       "      <th>1</th>\n",
       "      <td>1</td>\n",
       "      <td>1</td>\n",
       "      <td>0</td>\n",
       "      <td>0</td>\n",
       "      <td>1</td>\n",
       "      <td>0</td>\n",
       "      <td>0</td>\n",
       "    </tr>\n",
       "    <tr>\n",
       "      <th>2</th>\n",
       "      <td>1</td>\n",
       "      <td>1</td>\n",
       "      <td>0</td>\n",
       "      <td>1</td>\n",
       "      <td>0</td>\n",
       "      <td>0</td>\n",
       "      <td>0</td>\n",
       "    </tr>\n",
       "    <tr>\n",
       "      <th>3</th>\n",
       "      <td>0</td>\n",
       "      <td>0</td>\n",
       "      <td>1</td>\n",
       "      <td>0</td>\n",
       "      <td>1</td>\n",
       "      <td>0</td>\n",
       "      <td>0</td>\n",
       "    </tr>\n",
       "    <tr>\n",
       "      <th>4</th>\n",
       "      <td>0</td>\n",
       "      <td>0</td>\n",
       "      <td>1</td>\n",
       "      <td>0</td>\n",
       "      <td>0</td>\n",
       "      <td>0</td>\n",
       "      <td>0</td>\n",
       "    </tr>\n",
       "  </tbody>\n",
       "</table>\n",
       "</div>"
      ],
      "text/plain": [
       "   Action  Drama  Comedy  Family  Romance  Documentary  Horror\n",
       "0       0      0       0       1        0            0       0\n",
       "1       1      1       0       0        1            0       0\n",
       "2       1      1       0       1        0            0       0\n",
       "3       0      0       1       0        1            0       0\n",
       "4       0      0       1       0        0            0       0"
      ]
     },
     "execution_count": 5,
     "metadata": {},
     "output_type": "execute_result"
    }
   ],
   "source": [
    "labels.head(5)"
   ]
  },
  {
   "cell_type": "markdown",
   "metadata": {},
   "source": [
    "Now, we begin preparing the data for model fitting.  The first step in this process is to remove or reformat features that are not suitable, i.e. numeric."
   ]
  },
  {
   "cell_type": "code",
   "execution_count": 6,
   "metadata": {
    "collapsed": false
   },
   "outputs": [
    {
     "data": {
      "text/html": [
       "<div>\n",
       "<table border=\"1\" class=\"dataframe\">\n",
       "  <thead>\n",
       "    <tr style=\"text-align: right;\">\n",
       "      <th></th>\n",
       "      <th>release_date</th>\n",
       "      <th>budget</th>\n",
       "      <th>revenue</th>\n",
       "      <th>popularity</th>\n",
       "      <th>vote_count</th>\n",
       "      <th>vote_average</th>\n",
       "      <th>runtime</th>\n",
       "      <th>adult</th>\n",
       "      <th>n_actors</th>\n",
       "      <th>n_crew</th>\n",
       "      <th>...</th>\n",
       "      <th>spoken_languages_ur</th>\n",
       "      <th>spoken_languages_uz</th>\n",
       "      <th>spoken_languages_vi</th>\n",
       "      <th>spoken_languages_wo</th>\n",
       "      <th>spoken_languages_xh</th>\n",
       "      <th>spoken_languages_xx</th>\n",
       "      <th>spoken_languages_yi</th>\n",
       "      <th>spoken_languages_za</th>\n",
       "      <th>spoken_languages_zh</th>\n",
       "      <th>spoken_languages_zu</th>\n",
       "    </tr>\n",
       "  </thead>\n",
       "  <tbody>\n",
       "    <tr>\n",
       "      <th>0</th>\n",
       "      <td>1940-02-23</td>\n",
       "      <td>2600000</td>\n",
       "      <td>84300000</td>\n",
       "      <td>2.418732</td>\n",
       "      <td>933</td>\n",
       "      <td>6.8</td>\n",
       "      <td>88.0</td>\n",
       "      <td>False</td>\n",
       "      <td>12.0</td>\n",
       "      <td>75.0</td>\n",
       "      <td>...</td>\n",
       "      <td>0</td>\n",
       "      <td>0</td>\n",
       "      <td>0</td>\n",
       "      <td>0</td>\n",
       "      <td>0</td>\n",
       "      <td>0</td>\n",
       "      <td>0</td>\n",
       "      <td>0</td>\n",
       "      <td>0</td>\n",
       "      <td>0</td>\n",
       "    </tr>\n",
       "    <tr>\n",
       "      <th>1</th>\n",
       "      <td>1940-04-12</td>\n",
       "      <td>1288000</td>\n",
       "      <td>6000000</td>\n",
       "      <td>1.583448</td>\n",
       "      <td>271</td>\n",
       "      <td>7.6</td>\n",
       "      <td>130.0</td>\n",
       "      <td>False</td>\n",
       "      <td>25.0</td>\n",
       "      <td>37.0</td>\n",
       "      <td>...</td>\n",
       "      <td>0</td>\n",
       "      <td>0</td>\n",
       "      <td>0</td>\n",
       "      <td>0</td>\n",
       "      <td>0</td>\n",
       "      <td>0</td>\n",
       "      <td>0</td>\n",
       "      <td>0</td>\n",
       "      <td>0</td>\n",
       "      <td>0</td>\n",
       "    </tr>\n",
       "    <tr>\n",
       "      <th>2</th>\n",
       "      <td>1940-11-13</td>\n",
       "      <td>2280000</td>\n",
       "      <td>83320000</td>\n",
       "      <td>1.498824</td>\n",
       "      <td>615</td>\n",
       "      <td>7.1</td>\n",
       "      <td>124.0</td>\n",
       "      <td>False</td>\n",
       "      <td>7.0</td>\n",
       "      <td>24.0</td>\n",
       "      <td>...</td>\n",
       "      <td>0</td>\n",
       "      <td>0</td>\n",
       "      <td>0</td>\n",
       "      <td>0</td>\n",
       "      <td>0</td>\n",
       "      <td>0</td>\n",
       "      <td>0</td>\n",
       "      <td>0</td>\n",
       "      <td>0</td>\n",
       "      <td>0</td>\n",
       "    </tr>\n",
       "    <tr>\n",
       "      <th>3</th>\n",
       "      <td>1940-12-01</td>\n",
       "      <td>0</td>\n",
       "      <td>0</td>\n",
       "      <td>1.113673</td>\n",
       "      <td>160</td>\n",
       "      <td>7.6</td>\n",
       "      <td>112.0</td>\n",
       "      <td>False</td>\n",
       "      <td>28.0</td>\n",
       "      <td>13.0</td>\n",
       "      <td>...</td>\n",
       "      <td>0</td>\n",
       "      <td>0</td>\n",
       "      <td>0</td>\n",
       "      <td>0</td>\n",
       "      <td>0</td>\n",
       "      <td>0</td>\n",
       "      <td>0</td>\n",
       "      <td>0</td>\n",
       "      <td>0</td>\n",
       "      <td>0</td>\n",
       "    </tr>\n",
       "    <tr>\n",
       "      <th>4</th>\n",
       "      <td>1940-10-15</td>\n",
       "      <td>2000000</td>\n",
       "      <td>11000000</td>\n",
       "      <td>1.005436</td>\n",
       "      <td>563</td>\n",
       "      <td>8.0</td>\n",
       "      <td>125.0</td>\n",
       "      <td>False</td>\n",
       "      <td>59.0</td>\n",
       "      <td>22.0</td>\n",
       "      <td>...</td>\n",
       "      <td>0</td>\n",
       "      <td>0</td>\n",
       "      <td>0</td>\n",
       "      <td>0</td>\n",
       "      <td>0</td>\n",
       "      <td>0</td>\n",
       "      <td>0</td>\n",
       "      <td>0</td>\n",
       "      <td>0</td>\n",
       "      <td>0</td>\n",
       "    </tr>\n",
       "  </tbody>\n",
       "</table>\n",
       "<p>5 rows × 514 columns</p>\n",
       "</div>"
      ],
      "text/plain": [
       "  release_date   budget   revenue  popularity  vote_count  vote_average  \\\n",
       "0   1940-02-23  2600000  84300000    2.418732         933           6.8   \n",
       "1   1940-04-12  1288000   6000000    1.583448         271           7.6   \n",
       "2   1940-11-13  2280000  83320000    1.498824         615           7.1   \n",
       "3   1940-12-01        0         0    1.113673         160           7.6   \n",
       "4   1940-10-15  2000000  11000000    1.005436         563           8.0   \n",
       "\n",
       "   runtime  adult  n_actors  n_crew         ...           spoken_languages_ur  \\\n",
       "0     88.0  False      12.0    75.0         ...                             0   \n",
       "1    130.0  False      25.0    37.0         ...                             0   \n",
       "2    124.0  False       7.0    24.0         ...                             0   \n",
       "3    112.0  False      28.0    13.0         ...                             0   \n",
       "4    125.0  False      59.0    22.0         ...                             0   \n",
       "\n",
       "   spoken_languages_uz  spoken_languages_vi  spoken_languages_wo  \\\n",
       "0                    0                    0                    0   \n",
       "1                    0                    0                    0   \n",
       "2                    0                    0                    0   \n",
       "3                    0                    0                    0   \n",
       "4                    0                    0                    0   \n",
       "\n",
       "   spoken_languages_xh  spoken_languages_xx  spoken_languages_yi  \\\n",
       "0                    0                    0                    0   \n",
       "1                    0                    0                    0   \n",
       "2                    0                    0                    0   \n",
       "3                    0                    0                    0   \n",
       "4                    0                    0                    0   \n",
       "\n",
       "   spoken_languages_za  spoken_languages_zh  spoken_languages_zu  \n",
       "0                    0                    0                    0  \n",
       "1                    0                    0                    0  \n",
       "2                    0                    0                    0  \n",
       "3                    0                    0                    0  \n",
       "4                    0                    0                    0  \n",
       "\n",
       "[5 rows x 514 columns]"
      ]
     },
     "execution_count": 6,
     "metadata": {},
     "output_type": "execute_result"
    }
   ],
   "source": [
    "#delete text only data\n",
    "features = features.drop(features.columns[[0, 1, 2, 3, 5, 6, 12]], axis=1)\n",
    "features.head(5)"
   ]
  },
  {
   "cell_type": "code",
   "execution_count": 7,
   "metadata": {
    "collapsed": false
   },
   "outputs": [
    {
     "data": {
      "text/html": [
       "<div>\n",
       "<table border=\"1\" class=\"dataframe\">\n",
       "  <thead>\n",
       "    <tr style=\"text-align: right;\">\n",
       "      <th></th>\n",
       "      <th>release_date</th>\n",
       "      <th>budget</th>\n",
       "      <th>revenue</th>\n",
       "      <th>popularity</th>\n",
       "      <th>vote_count</th>\n",
       "      <th>vote_average</th>\n",
       "      <th>runtime</th>\n",
       "      <th>adult</th>\n",
       "      <th>n_actors</th>\n",
       "      <th>n_crew</th>\n",
       "      <th>...</th>\n",
       "      <th>spoken_languages_ur</th>\n",
       "      <th>spoken_languages_uz</th>\n",
       "      <th>spoken_languages_vi</th>\n",
       "      <th>spoken_languages_wo</th>\n",
       "      <th>spoken_languages_xh</th>\n",
       "      <th>spoken_languages_xx</th>\n",
       "      <th>spoken_languages_yi</th>\n",
       "      <th>spoken_languages_za</th>\n",
       "      <th>spoken_languages_zh</th>\n",
       "      <th>spoken_languages_zu</th>\n",
       "    </tr>\n",
       "  </thead>\n",
       "  <tbody>\n",
       "    <tr>\n",
       "      <th>0</th>\n",
       "      <td>1940.0</td>\n",
       "      <td>2600000</td>\n",
       "      <td>84300000</td>\n",
       "      <td>2.418732</td>\n",
       "      <td>933</td>\n",
       "      <td>6.8</td>\n",
       "      <td>88.0</td>\n",
       "      <td>False</td>\n",
       "      <td>12.0</td>\n",
       "      <td>75.0</td>\n",
       "      <td>...</td>\n",
       "      <td>0</td>\n",
       "      <td>0</td>\n",
       "      <td>0</td>\n",
       "      <td>0</td>\n",
       "      <td>0</td>\n",
       "      <td>0</td>\n",
       "      <td>0</td>\n",
       "      <td>0</td>\n",
       "      <td>0</td>\n",
       "      <td>0</td>\n",
       "    </tr>\n",
       "    <tr>\n",
       "      <th>1</th>\n",
       "      <td>1940.0</td>\n",
       "      <td>1288000</td>\n",
       "      <td>6000000</td>\n",
       "      <td>1.583448</td>\n",
       "      <td>271</td>\n",
       "      <td>7.6</td>\n",
       "      <td>130.0</td>\n",
       "      <td>False</td>\n",
       "      <td>25.0</td>\n",
       "      <td>37.0</td>\n",
       "      <td>...</td>\n",
       "      <td>0</td>\n",
       "      <td>0</td>\n",
       "      <td>0</td>\n",
       "      <td>0</td>\n",
       "      <td>0</td>\n",
       "      <td>0</td>\n",
       "      <td>0</td>\n",
       "      <td>0</td>\n",
       "      <td>0</td>\n",
       "      <td>0</td>\n",
       "    </tr>\n",
       "    <tr>\n",
       "      <th>2</th>\n",
       "      <td>1940.0</td>\n",
       "      <td>2280000</td>\n",
       "      <td>83320000</td>\n",
       "      <td>1.498824</td>\n",
       "      <td>615</td>\n",
       "      <td>7.1</td>\n",
       "      <td>124.0</td>\n",
       "      <td>False</td>\n",
       "      <td>7.0</td>\n",
       "      <td>24.0</td>\n",
       "      <td>...</td>\n",
       "      <td>0</td>\n",
       "      <td>0</td>\n",
       "      <td>0</td>\n",
       "      <td>0</td>\n",
       "      <td>0</td>\n",
       "      <td>0</td>\n",
       "      <td>0</td>\n",
       "      <td>0</td>\n",
       "      <td>0</td>\n",
       "      <td>0</td>\n",
       "    </tr>\n",
       "    <tr>\n",
       "      <th>3</th>\n",
       "      <td>1940.0</td>\n",
       "      <td>0</td>\n",
       "      <td>0</td>\n",
       "      <td>1.113673</td>\n",
       "      <td>160</td>\n",
       "      <td>7.6</td>\n",
       "      <td>112.0</td>\n",
       "      <td>False</td>\n",
       "      <td>28.0</td>\n",
       "      <td>13.0</td>\n",
       "      <td>...</td>\n",
       "      <td>0</td>\n",
       "      <td>0</td>\n",
       "      <td>0</td>\n",
       "      <td>0</td>\n",
       "      <td>0</td>\n",
       "      <td>0</td>\n",
       "      <td>0</td>\n",
       "      <td>0</td>\n",
       "      <td>0</td>\n",
       "      <td>0</td>\n",
       "    </tr>\n",
       "    <tr>\n",
       "      <th>4</th>\n",
       "      <td>1940.0</td>\n",
       "      <td>2000000</td>\n",
       "      <td>11000000</td>\n",
       "      <td>1.005436</td>\n",
       "      <td>563</td>\n",
       "      <td>8.0</td>\n",
       "      <td>125.0</td>\n",
       "      <td>False</td>\n",
       "      <td>59.0</td>\n",
       "      <td>22.0</td>\n",
       "      <td>...</td>\n",
       "      <td>0</td>\n",
       "      <td>0</td>\n",
       "      <td>0</td>\n",
       "      <td>0</td>\n",
       "      <td>0</td>\n",
       "      <td>0</td>\n",
       "      <td>0</td>\n",
       "      <td>0</td>\n",
       "      <td>0</td>\n",
       "      <td>0</td>\n",
       "    </tr>\n",
       "  </tbody>\n",
       "</table>\n",
       "<p>5 rows × 514 columns</p>\n",
       "</div>"
      ],
      "text/plain": [
       "   release_date   budget   revenue  popularity  vote_count  vote_average  \\\n",
       "0        1940.0  2600000  84300000    2.418732         933           6.8   \n",
       "1        1940.0  1288000   6000000    1.583448         271           7.6   \n",
       "2        1940.0  2280000  83320000    1.498824         615           7.1   \n",
       "3        1940.0        0         0    1.113673         160           7.6   \n",
       "4        1940.0  2000000  11000000    1.005436         563           8.0   \n",
       "\n",
       "   runtime  adult  n_actors  n_crew         ...           spoken_languages_ur  \\\n",
       "0     88.0  False      12.0    75.0         ...                             0   \n",
       "1    130.0  False      25.0    37.0         ...                             0   \n",
       "2    124.0  False       7.0    24.0         ...                             0   \n",
       "3    112.0  False      28.0    13.0         ...                             0   \n",
       "4    125.0  False      59.0    22.0         ...                             0   \n",
       "\n",
       "   spoken_languages_uz  spoken_languages_vi  spoken_languages_wo  \\\n",
       "0                    0                    0                    0   \n",
       "1                    0                    0                    0   \n",
       "2                    0                    0                    0   \n",
       "3                    0                    0                    0   \n",
       "4                    0                    0                    0   \n",
       "\n",
       "   spoken_languages_xh  spoken_languages_xx  spoken_languages_yi  \\\n",
       "0                    0                    0                    0   \n",
       "1                    0                    0                    0   \n",
       "2                    0                    0                    0   \n",
       "3                    0                    0                    0   \n",
       "4                    0                    0                    0   \n",
       "\n",
       "   spoken_languages_za  spoken_languages_zh  spoken_languages_zu  \n",
       "0                    0                    0                    0  \n",
       "1                    0                    0                    0  \n",
       "2                    0                    0                    0  \n",
       "3                    0                    0                    0  \n",
       "4                    0                    0                    0  \n",
       "\n",
       "[5 rows x 514 columns]"
      ]
     },
     "execution_count": 7,
     "metadata": {},
     "output_type": "execute_result"
    }
   ],
   "source": [
    "#convert release date string to numeric year\n",
    "rd = features['release_date'].str[:4]\n",
    "rd = pd.to_numeric(rd)\n",
    "\n",
    "features['release_date'] = rd\n",
    "features.head()"
   ]
  },
  {
   "cell_type": "markdown",
   "metadata": {},
   "source": [
    "There are a decent number of movies that are missing data for some of the features.  Since we can't fit our models with NaN values present, we can choose to either remove these movies, or impute values for the missing features.  Let's see how many movies we lose by dropping observations with any missing values."
   ]
  },
  {
   "cell_type": "code",
   "execution_count": 8,
   "metadata": {
    "collapsed": false
   },
   "outputs": [
    {
     "data": {
      "text/plain": [
       "11578"
      ]
     },
     "execution_count": 8,
     "metadata": {},
     "output_type": "execute_result"
    }
   ],
   "source": [
    "# Count missing data to see how many movies we lose by dropping NAs:\n",
    "features.shape[0] - features.dropna().shape[0]"
   ]
  },
  {
   "cell_type": "markdown",
   "metadata": {},
   "source": [
    "So we'll lose almost 12K movies by dropping those with any missing values.  Given the large size of our datset, this doesn't seem unmanageable."
   ]
  },
  {
   "cell_type": "code",
   "execution_count": 39,
   "metadata": {
    "collapsed": false
   },
   "outputs": [],
   "source": [
    "#make a df with no important features missing\n",
    "feat2 = pd.concat([features, labels], axis=1)\n",
    "feat2 = feat2.dropna()\n",
    "labels2 = feat2.ix[:,514:521]\n",
    "\n",
    "#drop adult since it is always false\n",
    "del feat2['adult']"
   ]
  },
  {
   "cell_type": "markdown",
   "metadata": {},
   "source": [
    "We also need to worry about features that have erroneous or nonsensical values, e.g. a budget of $0.00.  These erroneous values could have a negative influence on the model, if they're not dealt with.  So we'll create a new dataset with erroneous values replaced by the mean, with which we'll compare the non-altered dataset later."
   ]
  },
  {
   "cell_type": "code",
   "execution_count": 10,
   "metadata": {
    "collapsed": false
   },
   "outputs": [],
   "source": [
    "#make a second df with imputed mean values for nonsensical data in quantitative variables\n",
    "feat3 = feat2.iloc[:,0:9].values\n",
    "feat3 = feat3.astype('float')\n",
    "feat3[feat3 == 0] = np.nan\n",
    "imp = Imputer(missing_values='NaN', strategy='mean', axis=0)\n",
    "feat3 = imp.fit_transform(feat3)"
   ]
  },
  {
   "cell_type": "code",
   "execution_count": 11,
   "metadata": {
    "collapsed": false
   },
   "outputs": [
    {
     "data": {
      "text/html": [
       "<div>\n",
       "<table border=\"1\" class=\"dataframe\">\n",
       "  <thead>\n",
       "    <tr style=\"text-align: right;\">\n",
       "      <th></th>\n",
       "      <th>release_date</th>\n",
       "      <th>budget</th>\n",
       "      <th>revenue</th>\n",
       "      <th>popularity</th>\n",
       "      <th>vote_count</th>\n",
       "      <th>vote_average</th>\n",
       "      <th>runtime</th>\n",
       "      <th>n_actors</th>\n",
       "      <th>n_crew</th>\n",
       "      <th>original_language_ab</th>\n",
       "      <th>...</th>\n",
       "      <th>spoken_languages_za</th>\n",
       "      <th>spoken_languages_zh</th>\n",
       "      <th>spoken_languages_zu</th>\n",
       "      <th>Action</th>\n",
       "      <th>Drama</th>\n",
       "      <th>Comedy</th>\n",
       "      <th>Family</th>\n",
       "      <th>Romance</th>\n",
       "      <th>Documentary</th>\n",
       "      <th>Horror</th>\n",
       "    </tr>\n",
       "  </thead>\n",
       "  <tbody>\n",
       "    <tr>\n",
       "      <th>0</th>\n",
       "      <td>1940.0</td>\n",
       "      <td>2.600000e+06</td>\n",
       "      <td>8.430000e+07</td>\n",
       "      <td>2.418732</td>\n",
       "      <td>933.0</td>\n",
       "      <td>6.8</td>\n",
       "      <td>88.0</td>\n",
       "      <td>12.0</td>\n",
       "      <td>75.0</td>\n",
       "      <td>0.0</td>\n",
       "      <td>...</td>\n",
       "      <td>0.0</td>\n",
       "      <td>0.0</td>\n",
       "      <td>0.0</td>\n",
       "      <td>0.0</td>\n",
       "      <td>0.0</td>\n",
       "      <td>0.0</td>\n",
       "      <td>1.0</td>\n",
       "      <td>0.0</td>\n",
       "      <td>0.0</td>\n",
       "      <td>0.0</td>\n",
       "    </tr>\n",
       "    <tr>\n",
       "      <th>1</th>\n",
       "      <td>1940.0</td>\n",
       "      <td>1.288000e+06</td>\n",
       "      <td>6.000000e+06</td>\n",
       "      <td>1.583448</td>\n",
       "      <td>271.0</td>\n",
       "      <td>7.6</td>\n",
       "      <td>130.0</td>\n",
       "      <td>25.0</td>\n",
       "      <td>37.0</td>\n",
       "      <td>0.0</td>\n",
       "      <td>...</td>\n",
       "      <td>0.0</td>\n",
       "      <td>0.0</td>\n",
       "      <td>0.0</td>\n",
       "      <td>1.0</td>\n",
       "      <td>1.0</td>\n",
       "      <td>0.0</td>\n",
       "      <td>0.0</td>\n",
       "      <td>1.0</td>\n",
       "      <td>0.0</td>\n",
       "      <td>0.0</td>\n",
       "    </tr>\n",
       "    <tr>\n",
       "      <th>2</th>\n",
       "      <td>1940.0</td>\n",
       "      <td>2.280000e+06</td>\n",
       "      <td>8.332000e+07</td>\n",
       "      <td>1.498824</td>\n",
       "      <td>615.0</td>\n",
       "      <td>7.1</td>\n",
       "      <td>124.0</td>\n",
       "      <td>7.0</td>\n",
       "      <td>24.0</td>\n",
       "      <td>0.0</td>\n",
       "      <td>...</td>\n",
       "      <td>0.0</td>\n",
       "      <td>0.0</td>\n",
       "      <td>0.0</td>\n",
       "      <td>1.0</td>\n",
       "      <td>1.0</td>\n",
       "      <td>0.0</td>\n",
       "      <td>1.0</td>\n",
       "      <td>0.0</td>\n",
       "      <td>0.0</td>\n",
       "      <td>0.0</td>\n",
       "    </tr>\n",
       "    <tr>\n",
       "      <th>3</th>\n",
       "      <td>1940.0</td>\n",
       "      <td>1.523739e+07</td>\n",
       "      <td>6.234904e+07</td>\n",
       "      <td>1.113673</td>\n",
       "      <td>160.0</td>\n",
       "      <td>7.6</td>\n",
       "      <td>112.0</td>\n",
       "      <td>28.0</td>\n",
       "      <td>13.0</td>\n",
       "      <td>0.0</td>\n",
       "      <td>...</td>\n",
       "      <td>0.0</td>\n",
       "      <td>0.0</td>\n",
       "      <td>0.0</td>\n",
       "      <td>0.0</td>\n",
       "      <td>0.0</td>\n",
       "      <td>1.0</td>\n",
       "      <td>0.0</td>\n",
       "      <td>1.0</td>\n",
       "      <td>0.0</td>\n",
       "      <td>0.0</td>\n",
       "    </tr>\n",
       "    <tr>\n",
       "      <th>4</th>\n",
       "      <td>1940.0</td>\n",
       "      <td>2.000000e+06</td>\n",
       "      <td>1.100000e+07</td>\n",
       "      <td>1.005436</td>\n",
       "      <td>563.0</td>\n",
       "      <td>8.0</td>\n",
       "      <td>125.0</td>\n",
       "      <td>59.0</td>\n",
       "      <td>22.0</td>\n",
       "      <td>0.0</td>\n",
       "      <td>...</td>\n",
       "      <td>0.0</td>\n",
       "      <td>0.0</td>\n",
       "      <td>0.0</td>\n",
       "      <td>0.0</td>\n",
       "      <td>0.0</td>\n",
       "      <td>1.0</td>\n",
       "      <td>0.0</td>\n",
       "      <td>0.0</td>\n",
       "      <td>0.0</td>\n",
       "      <td>0.0</td>\n",
       "    </tr>\n",
       "  </tbody>\n",
       "</table>\n",
       "<p>5 rows × 519 columns</p>\n",
       "</div>"
      ],
      "text/plain": [
       "   release_date        budget       revenue  popularity  vote_count  \\\n",
       "0        1940.0  2.600000e+06  8.430000e+07    2.418732       933.0   \n",
       "1        1940.0  1.288000e+06  6.000000e+06    1.583448       271.0   \n",
       "2        1940.0  2.280000e+06  8.332000e+07    1.498824       615.0   \n",
       "3        1940.0  1.523739e+07  6.234904e+07    1.113673       160.0   \n",
       "4        1940.0  2.000000e+06  1.100000e+07    1.005436       563.0   \n",
       "\n",
       "   vote_average  runtime  n_actors  n_crew  original_language_ab   ...    \\\n",
       "0           6.8     88.0      12.0    75.0                   0.0   ...     \n",
       "1           7.6    130.0      25.0    37.0                   0.0   ...     \n",
       "2           7.1    124.0       7.0    24.0                   0.0   ...     \n",
       "3           7.6    112.0      28.0    13.0                   0.0   ...     \n",
       "4           8.0    125.0      59.0    22.0                   0.0   ...     \n",
       "\n",
       "   spoken_languages_za  spoken_languages_zh  spoken_languages_zu  Action  \\\n",
       "0                  0.0                  0.0                  0.0     0.0   \n",
       "1                  0.0                  0.0                  0.0     1.0   \n",
       "2                  0.0                  0.0                  0.0     1.0   \n",
       "3                  0.0                  0.0                  0.0     0.0   \n",
       "4                  0.0                  0.0                  0.0     0.0   \n",
       "\n",
       "   Drama  Comedy  Family  Romance  Documentary  Horror  \n",
       "0    0.0     0.0     1.0      0.0          0.0     0.0  \n",
       "1    1.0     0.0     0.0      1.0          0.0     0.0  \n",
       "2    1.0     0.0     1.0      0.0          0.0     0.0  \n",
       "3    0.0     1.0     0.0      1.0          0.0     0.0  \n",
       "4    0.0     1.0     0.0      0.0          0.0     0.0  \n",
       "\n",
       "[5 rows x 519 columns]"
      ]
     },
     "execution_count": 11,
     "metadata": {},
     "output_type": "execute_result"
    }
   ],
   "source": [
    "feat3 = pd.DataFrame(feat3, columns = list(feat2)[0:9])\n",
    "feat3 = pd.concat([feat3, feat2.iloc[:,10:520]], axis=1).dropna()\n",
    "feat3.head()"
   ]
  },
  {
   "cell_type": "code",
   "execution_count": 12,
   "metadata": {
    "collapsed": false
   },
   "outputs": [],
   "source": [
    "# Pop labels off of imputed dataset\n",
    "labels3 = feat3.ix[:,512:519]\n",
    "feat3 = feat3.drop(feat3.columns[[512, 513, 514, 515, 516, 517, 518]], axis=1)\n",
    "feat2 = feat2.drop(feat2.columns[[513, 514, 515, 516, 517, 518, 519]], axis=1)"
   ]
  },
  {
   "cell_type": "markdown",
   "metadata": {},
   "source": [
    "## Model fitting and comparison"
   ]
  },
  {
   "cell_type": "markdown",
   "metadata": {},
   "source": [
    "Now that we've cleaned up our data sufficiently, it's finally time to begin model fitting and comparison.  The first step is to split the full dataset into training and testing sets."
   ]
  },
  {
   "cell_type": "code",
   "execution_count": 13,
   "metadata": {
    "collapsed": false
   },
   "outputs": [],
   "source": [
    "#split our data into training and testing\n",
    "X_train, X_test, y_train, y_test = train_test_split(feat2, labels2, test_size=0.33, random_state=42)\n",
    "\n",
    "# ----------------------------\n",
    "# Standardize features\n",
    "scaler = preprocessing.StandardScaler().fit(X_train)\n",
    "# Call: scaler.transform(X_train) to scale\n",
    "# ----------------------------"
   ]
  },
  {
   "cell_type": "markdown",
   "metadata": {},
   "source": [
    "### General strategy"
   ]
  },
  {
   "cell_type": "markdown",
   "metadata": {},
   "source": [
    "We framed our genre prediction problem as a multi-label task, where a given movie may have >=1 genre labels.  Rather than throwing out movies with >1 genre, or arbitrarily choosing to keep a single genre for each movie, we chose this framework because we believe this approach retains an important aspect of movie genres - that boundaries are often not clear - at the cost of making the classification task more difficult.\n",
    "\n",
    "**Classification scheme:**\n",
    "We first chose to tackle the multi-label task by using a one-vs.-rest classification approach, essentially modeling each genre as the output of a single classifier, since it requires only fitting one classifier per genre.  It's not the most powerful approach, but it more efficient than other classification schemes and is expected to give decent first-pass results.\n",
    "\n",
    "**Model selection:**\n",
    "We wound up fitting three different models to the data - Naive Bayes (NB), Logistic regression (LR), and Random Forests Classifier (RFC) - fitting the LR and RFC with, and without, PCA.\n",
    "\n",
    "**Class imbalance**\n",
    "As we showed in previous milestones, the genres are not all equally common, therefore we have to contend with significant class imbalance.   This could be dealt with in a number of ways, but the way we chose to deal with it is to \"balance\" the groups by adjusting the weights to be inversely proportional to the class frequencies for the LR and and RFC, and setting the priors in NB to the observed frequencies.\n",
    "\n",
    "**Performance Evaluation:**\n",
    "To evaluate performance, we chose to Hamming loss.  We chose Hamming loss, as opposed to other measures, because it gives the label-by-label accuracy for our multi-label classification, and not an \"all or nothing\" accuracy indicating whether we got the exact combination of genres right for a particular movie. "
   ]
  },
  {
   "cell_type": "markdown",
   "metadata": {},
   "source": [
    "### Naive Bayes classifier"
   ]
  },
  {
   "cell_type": "markdown",
   "metadata": {},
   "source": [
    "We decided to begin our modeling efforts with a simple Naive Bayes classifier.  The Naive Bayes classifier should be simple to implement and quick to fit this large dataset, so it's a good place to start."
   ]
  },
  {
   "cell_type": "code",
   "execution_count": 14,
   "metadata": {
    "collapsed": false
   },
   "outputs": [
    {
     "data": {
      "text/plain": [
       "OneVsRestClassifier(estimator=GaussianNB(priors=None), n_jobs=-1)"
      ]
     },
     "execution_count": 14,
     "metadata": {},
     "output_type": "execute_result"
    }
   ],
   "source": [
    "from sklearn.naive_bayes import GaussianNB\n",
    "\n",
    "# Do multi-label NB\n",
    "nb_mdl = OneVsRestClassifier(GaussianNB(), n_jobs=-1)\n",
    "nb_mdl.fit(X_train, y_train)"
   ]
  },
  {
   "cell_type": "code",
   "execution_count": 15,
   "metadata": {
    "collapsed": false
   },
   "outputs": [
    {
     "data": {
      "text/plain": [
       "0.310183745244874"
      ]
     },
     "execution_count": 15,
     "metadata": {},
     "output_type": "execute_result"
    }
   ],
   "source": [
    "# Test uncalibrated NB performance\n",
    "nb_pred = nb_mdl.predict(X_test)\n",
    "hamming_loss(y_test, nb_pred)"
   ]
  },
  {
   "cell_type": "markdown",
   "metadata": {},
   "source": [
    "We can see that the NB model appears to do a decent job right out of the box, with a Hamming loss of 0.31.  This means that roughly 69% of our genre labels are predicted correctly for the test set.  Since each genre assignment is a 50/50 choice, this would seem to be a large improvement over a random classifier.  \n",
    "\n",
    "We thought perhaps performance could be improved by tuning the NB model.  There isn't really a good way to 'tune' an NB classifier, but we can calibrate the class probabilities and look at how varying the class threshold affects our loss on the test set."
   ]
  },
  {
   "cell_type": "code",
   "execution_count": 16,
   "metadata": {
    "collapsed": false
   },
   "outputs": [
    {
     "name": "stdout",
     "output_type": "stream",
     "text": [
      "Minumum Hamming loss: 0.212766466493\n",
      "Loss when zero: 0.214970572051\n"
     ]
    },
    {
     "data": {
      "image/png": "[encoded data removed]",
      "text/plain": [
       "<matplotlib.figure.Figure at 0x110aaf190>"
      ]
     },
     "metadata": {},
     "output_type": "display_data"
    }
   ],
   "source": [
    "from sklearn.calibration import CalibratedClassifierCV\n",
    "\n",
    "nb_sigmoid = CalibratedClassifierCV(GaussianNB(), method='sigmoid')\n",
    "nb_mdl = OneVsRestClassifier(nb_sigmoid, n_jobs=-1)\n",
    "nb_mdl.fit(X_train, y_train)\n",
    "\n",
    "nb_cal_proba = nb_mdl.predict_proba(X_test)\n",
    "\n",
    "\n",
    "loss = []\n",
    "# Choose optimal threshold by manual ROC\n",
    "for thresh in np.linspace(0.01, 0.99, 99):\n",
    "    \n",
    "    pred = np.array(nb_cal_proba > thresh).astype(int)\n",
    "    loss.append(hamming_loss(y_test, pred))\n",
    "\n",
    "    \n",
    "plt.plot(np.linspace(0.01, 0.99, 99), loss)\n",
    "plt.xlabel('threshold'); plt.ylabel('Hamming Loss')\n",
    "\n",
    "print 'Minumum Hamming loss: {loss}'.format(loss=min(loss))\n",
    "print 'Loss when zero: {loss}'.format(loss=hamming_loss(y_test, np.zeros(np.shape(y_test))))"
   ]
  },
  {
   "cell_type": "markdown",
   "metadata": {},
   "source": [
    "Surprisingly, it seems like the NB classifier does best (Hamming loss = 0.213) at the higest thresholds - when it predicts everything as 0, i.e. no genre assigned.  In fact, it turns out that the best performance achievable here is what we would achieve by assigning no genre to any movie - the \"all null\" model (Hamming loss = 0.215).  This is clearly not the desired effect, since prediction of no genre is completely unhelpful.  We could try to impose a constraint on the model that at least one genre is always chosen, e.g. applying a softmax transformation, but this assumes labels are mutually exclusive, so it can't handle multi-label scenarios like this one.  To circumvent these issues, we decided to try something a bit different, and turned to logistic regression."
   ]
  },
  {
   "cell_type": "markdown",
   "metadata": {},
   "source": [
    "### Logistic regression"
   ]
  },
  {
   "cell_type": "markdown",
   "metadata": {},
   "source": [
    "Now we implement a logistic regression model, using stochastic gradient descent to efficiently fit the large dataset.  As above, we fit our model on the full training dataset, using a one-vs.-rest scheme, and report the Hamming loss performance metric.  The model was previously tuned using the code in the Appendix, and C=100 was identified as the optimal regularization parameter value.  We use that value here."
   ]
  },
  {
   "cell_type": "code",
   "execution_count": 17,
   "metadata": {
    "collapsed": false
   },
   "outputs": [
    {
     "data": {
      "text/plain": [
       "OneVsRestClassifier(estimator=LogisticRegression(C=1.0, class_weight='balanced', dual=False,\n",
       "          fit_intercept=True, intercept_scaling=1, max_iter=100,\n",
       "          multi_class='ovr', n_jobs=1, penalty='l2', random_state=None,\n",
       "          solver='sag', tol=0.0001, verbose=0, warm_start=False),\n",
       "          n_jobs=-1)"
      ]
     },
     "execution_count": 17,
     "metadata": {},
     "output_type": "execute_result"
    }
   ],
   "source": [
    "from sklearn.linear_model import LogisticRegression\n",
    "\n",
    "# Now do LR - we'll use the SGD solver since the dataset is so large\n",
    "lr_mdl = OneVsRestClassifier(LogisticRegression(class_weight='balanced', C=100, solver='sag'), n_jobs=-1)\n",
    "lr_mdl.fit(scaler.transform(X_train), y_train)"
   ]
  },
  {
   "cell_type": "code",
   "execution_count": 18,
   "metadata": {
    "collapsed": false
   },
   "outputs": [
    {
     "data": {
      "text/plain": [
       "0.35005203722755224"
      ]
     },
     "execution_count": 18,
     "metadata": {},
     "output_type": "execute_result"
    }
   ],
   "source": [
    "# Test LR performance\n",
    "lr_pred = lr_mdl.predict(scaler.transform(X_test))\n",
    "hamming_loss(y_test, lr_pred)"
   ]
  },
  {
   "cell_type": "code",
   "execution_count": 19,
   "metadata": {
    "collapsed": false
   },
   "outputs": [
    {
     "data": {
      "text/plain": [
       "array([[0, 0, 1, 0, 0, 0, 0],\n",
       "       [0, 0, 1, 0, 1, 0, 0],\n",
       "       [0, 0, 0, 0, 0, 1, 0],\n",
       "       [1, 0, 0, 0, 0, 0, 1],\n",
       "       [0, 0, 0, 1, 0, 1, 1],\n",
       "       [1, 0, 0, 1, 0, 1, 0],\n",
       "       [0, 0, 0, 1, 0, 1, 0],\n",
       "       [0, 0, 1, 0, 0, 0, 0],\n",
       "       [1, 0, 1, 0, 1, 0, 0],\n",
       "       [1, 0, 1, 0, 1, 0, 1]])"
      ]
     },
     "execution_count": 19,
     "metadata": {},
     "output_type": "execute_result"
    }
   ],
   "source": [
    "# Let's look at the first handful of genre predictions\n",
    "lr_pred[:10]"
   ]
  },
  {
   "cell_type": "markdown",
   "metadata": {},
   "source": [
    "We can see that our untuned LR does worse than the NB model and how we would do by simply predicting all zeros for the genres (Hamming loss of 0.350 vs. 0.215), but at least it does assign movies at least one genre.  Presumably, performance would improve with some finer tuning of the regularization strength, but it seems doubtful that we will get too far with this model and this dataset."
   ]
  },
  {
   "cell_type": "markdown",
   "metadata": {},
   "source": [
    "### PCA\n",
    "\n",
    "To see whether we can improve performance by reducing the dimensionality of the feature space we implemented PCA and kept the minimum number of PCs required to explain 90% of the total variance.  This will hopefully make the model fitting faster, and result in higher quality predictions. We will apply PCA to the logistic regression model above to see whether performance can be improved, and to the RFC below."
   ]
  },
  {
   "cell_type": "code",
   "execution_count": 20,
   "metadata": {
    "collapsed": false
   },
   "outputs": [
    {
     "data": {
      "text/plain": [
       "PCA(copy=True, iterated_power='auto', n_components=400, random_state=None,\n",
       "  svd_solver='auto', tol=0.0, whiten=False)"
      ]
     },
     "execution_count": 20,
     "metadata": {},
     "output_type": "execute_result"
    }
   ],
   "source": [
    "# implementation of LR using PCA to see if this results in better prediction\n",
    "# start with 400 PCs, will only take the ones that explain ~90% of variance\n",
    "pca = PCA(n_components=400)\n",
    "pca.fit(scaler.transform(X_train))"
   ]
  },
  {
   "cell_type": "code",
   "execution_count": 21,
   "metadata": {
    "collapsed": false
   },
   "outputs": [
    {
     "name": "stdout",
     "output_type": "stream",
     "text": [
      "327\n",
      "0.900468664604\n"
     ]
    }
   ],
   "source": [
    "# show the number of PCs that explain at least 90% of the variance\n",
    "var90pcs = len(pca.explained_variance_ratio_[np.cumsum(pca.explained_variance_ratio_)<.9])\n",
    "print var90pcs\n",
    "print np.cumsum(pca.explained_variance_ratio_)[var90pcs]"
   ]
  },
  {
   "cell_type": "markdown",
   "metadata": {},
   "source": [
    "We can see that 90% of the variance is explained by the first 327 PCs, so we will fit our LR using the first 327 PCs and compare the results to the model using the entire dataset above."
   ]
  },
  {
   "cell_type": "code",
   "execution_count": 22,
   "metadata": {
    "collapsed": false
   },
   "outputs": [
    {
     "name": "stdout",
     "output_type": "stream",
     "text": [
      "(96981, 400)\n",
      "(47768, 400)\n"
     ]
    }
   ],
   "source": [
    "# reduce data using PCA\n",
    "X_train_reduced = pca.transform(scaler.transform(X_train))\n",
    "print X_train_reduced.shape\n",
    "X_test_reduced = pca.transform(scaler.transform(X_test))\n",
    "print X_test_reduced.shape"
   ]
  },
  {
   "cell_type": "code",
   "execution_count": 23,
   "metadata": {
    "collapsed": false
   },
   "outputs": [
    {
     "data": {
      "text/plain": [
       "OneVsRestClassifier(estimator=LogisticRegression(C=100, class_weight='balanced', dual=False,\n",
       "          fit_intercept=True, intercept_scaling=1, max_iter=100,\n",
       "          multi_class='ovr', n_jobs=1, penalty='l2', random_state=None,\n",
       "          solver='sag', tol=0.0001, verbose=0, warm_start=False),\n",
       "          n_jobs=-1)"
      ]
     },
     "execution_count": 23,
     "metadata": {},
     "output_type": "execute_result"
    }
   ],
   "source": [
    "# Now the same LR as above but with 327 principal components\n",
    "lr_mdl_pca = OneVsRestClassifier(LogisticRegression(class_weight='balanced', C=100, solver='sag'), n_jobs=-1)\n",
    "lr_mdl_pca.fit(X_train_reduced[:,0:var90pcs], y_train)"
   ]
  },
  {
   "cell_type": "code",
   "execution_count": 24,
   "metadata": {
    "collapsed": false
   },
   "outputs": [
    {
     "data": {
      "text/plain": [
       "0.35687070842404955"
      ]
     },
     "execution_count": 24,
     "metadata": {},
     "output_type": "execute_result"
    }
   ],
   "source": [
    "# Test LR performance\n",
    "lr_pred_pca = lr_mdl_pca.predict(X_test_reduced[:,0:var90pcs])\n",
    "hamming_loss(y_test, lr_pred_pca)"
   ]
  },
  {
   "cell_type": "markdown",
   "metadata": {},
   "source": [
    "We can see that the Hamming loss is pretty similar to that achieved using the full data set, only slightly worse.  This indicates that the features aren't very compressible, i.e. information is distributed widely across features. It is possible that we will will see gains by implementing a more flexible classifier, so we decided to fit an RFC, and compare results with those above."
   ]
  },
  {
   "cell_type": "markdown",
   "metadata": {},
   "source": [
    "### Random Forest Classifier"
   ]
  },
  {
   "cell_type": "markdown",
   "metadata": {},
   "source": [
    "As with the LR, we pre-tuned our RFC using the code in the Appendix and apply those values here."
   ]
  },
  {
   "cell_type": "code",
   "execution_count": 25,
   "metadata": {
    "collapsed": false
   },
   "outputs": [
    {
     "data": {
      "text/plain": [
       "0.16755688207287606"
      ]
     },
     "execution_count": 25,
     "metadata": {},
     "output_type": "execute_result"
    }
   ],
   "source": [
    "#run a tuned RFC on full data set and calculate Hamming loss\n",
    "# **tuning parameters chosen previously using code in the Appendix\n",
    "rfc_mdl = RFC(n_estimators=120, max_depth=60, class_weight ='balanced', n_jobs=-1).fit(X_train,y_train)\n",
    "rf_pred = rfc_mdl.predict(X_test)\n",
    "hamming_loss(y_test, rf_pred)"
   ]
  },
  {
   "cell_type": "markdown",
   "metadata": {},
   "source": [
    "We can see that we achieve a significantly better Hamming score with RFC (0.17) than with NB or LR.  This means that roughly 83% of our genre labels are predicted correctly for the test set."
   ]
  },
  {
   "cell_type": "code",
   "execution_count": 26,
   "metadata": {
    "collapsed": false
   },
   "outputs": [
    {
     "data": {
      "text/plain": [
       "0.28720063640931165"
      ]
     },
     "execution_count": 26,
     "metadata": {},
     "output_type": "execute_result"
    }
   ],
   "source": [
    "#calculate the overall accuracy of our predictions\n",
    "rfc_mdl.score(X_test, y_test)"
   ]
  },
  {
   "cell_type": "markdown",
   "metadata": {},
   "source": [
    "We also compared the Hamming score metric with a more traditional overall accuracy metric.  From the sklearn documentation: \"In multi-label classification, this is the subset accuracy which is a harsh metric since you require for each sample that each label set be correctly predicted.\" While interesting to compare to the Hamming loss, this gives us a much coarser picture of how our model is performing at assigning genres. 29% of our films' genres are predicted exactly as we assigned them, but 83% of our predicted genres are correct. Since a random classifier would need to assign seven binary genres correctly to get one movie correct on this harsh metric, each movie would have a (.5)^7 or roughly 0.8% chance of being assigned correctly. \n",
    "\n",
    "Next, we apply PCA and see whether dimensionality reduction improves RFC performance."
   ]
  },
  {
   "cell_type": "code",
   "execution_count": 27,
   "metadata": {
    "collapsed": false
   },
   "outputs": [
    {
     "data": {
      "text/plain": [
       "0.17694750819436803"
      ]
     },
     "execution_count": 27,
     "metadata": {},
     "output_type": "execute_result"
    }
   ],
   "source": [
    "#run a tuned RFC on our data that has been reduced using PCA and calculate Hamming loss\n",
    "rfc_mdl_pca = RFC(n_estimators=120, max_depth=60, class_weight = 'balanced').fit(X_train_reduced[:,0:var90pcs],y_train)\n",
    "pred_pca = rfc_mdl_pca.predict(np.array(X_test_reduced[:,0:var90pcs]))\n",
    "hamming_loss(y_test, pred_pca)"
   ]
  },
  {
   "cell_type": "markdown",
   "metadata": {},
   "source": [
    "About 82% of the genres are predicted correctly using PCA with 327 PCs. This is pretty comparable to the RFC above that uses the full dimension dataset. Perhaps the slight loss in accuracy is offset by the reduction in time it takes to fit the random forest, although this is a subjective judgment."
   ]
  },
  {
   "cell_type": "markdown",
   "metadata": {},
   "source": [
    "### Model Performance by genre"
   ]
  },
  {
   "cell_type": "markdown",
   "metadata": {},
   "source": [
    "It's important to consider how the different models are making their mistakes, so we decided to break down the prediction accuracy by genre for the LR and RFC."
   ]
  },
  {
   "cell_type": "code",
   "execution_count": 29,
   "metadata": {
    "collapsed": true
   },
   "outputs": [],
   "source": [
    "#visualize by-genre accuracy of predictions\n",
    "def plot_acc_by_genre(pred, y_test, clf_str=''):\n",
    "    \n",
    "    preds = pd.DataFrame(pred)\n",
    "    acc = []\n",
    "\n",
    "    for i in range(7):\n",
    "        a = np.array(y_test[[i]])\n",
    "        b = np.array(preds[[i]])\n",
    "        acc.append(np.count_nonzero(a==b) / preds.shape[0] * 100)\n",
    "\n",
    "    plt.figure(figsize=(10,5))\n",
    "    index = [0,1,2,3,4,5,6]\n",
    "    plt.bar(index,acc,align=\"center\")\n",
    "    plt.xticks(index, ('Action', 'Drama', 'Comedy', 'Family', 'Romance', 'Documentary', 'Horror'))\n",
    "    plt.ylim([0,100])\n",
    "    plt.grid(axis='y')\n",
    "    plt.title(clf_str + ' Accuracy by Genre')\n",
    "    plt.ylabel('Accuracy')\n",
    "    plt.show()"
   ]
  },
  {
   "cell_type": "code",
   "execution_count": 32,
   "metadata": {
    "collapsed": false
   },
   "outputs": [
    {
     "data": {
      "image/png": "[encoded data removed]",
      "text/plain": [
       "<matplotlib.figure.Figure at 0x13a304210>"
      ]
     },
     "metadata": {},
     "output_type": "display_data"
    }
   ],
   "source": [
    "plot_acc_by_genre(lr_pred, y_test, 'Logistic Regression')"
   ]
  },
  {
   "cell_type": "code",
   "execution_count": 30,
   "metadata": {
    "collapsed": false
   },
   "outputs": [
    {
     "data": {
      "image/png": "[encoded data removed]",
      "text/plain": [
       "<matplotlib.figure.Figure at 0x1191c0090>"
      ]
     },
     "metadata": {},
     "output_type": "display_data"
    }
   ],
   "source": [
    "plot_acc_by_genre(rf_pred, y_test, 'Random Forest')"
   ]
  },
  {
   "cell_type": "markdown",
   "metadata": {},
   "source": [
    "For the LR, accuracy is pretty similar across action, drama, comedy, and horror, while family and documentary genres are predicted with slightly higher fidelity.  \n",
    "\n",
    "For RFC, we correctly identify 4 out of our 7 combined genres almost 90% of the time, while action and comedy are accurately labeled roughly 75% of the time. Drama is the only genre with a lower than 70% accuracy rating, indicating that we may need to rethink which of our original genres we are flagging for inclusion in this category. It is also a genre that appears with a wide variety of other film types, making its discrimination more difficult.\n",
    "\n",
    "Overall, the LR and RFC don't look drastically different, beyond the overall higher performance of RFC."
   ]
  },
  {
   "cell_type": "markdown",
   "metadata": {},
   "source": [
    "## Exploring the importance of categorical features and effects of missing data in RF model"
   ]
  },
  {
   "cell_type": "markdown",
   "metadata": {},
   "source": [
    "We next wanted to evaluate the contributions of different categorical variables we chose to include, as well as the effects of imputing data.  We first look at performance of our tuned RFC on the imputed dataset."
   ]
  },
  {
   "cell_type": "code",
   "execution_count": 33,
   "metadata": {
    "collapsed": false
   },
   "outputs": [
    {
     "data": {
      "text/plain": [
       "0.20405906794877168"
      ]
     },
     "execution_count": 33,
     "metadata": {},
     "output_type": "execute_result"
    }
   ],
   "source": [
    "#split our imputed data df into training and testing\n",
    "X_train3, X_test3, y_train3, y_test3 = train_test_split(feat3, labels3, test_size=0.33, random_state=42)\n",
    "\n",
    "#run a RFC on our data with imputed data\n",
    "imputedmdl = RFC(n_estimators=120, max_depth=60, class_weight = 'balanced', n_jobs=-1).fit(X_train3,y_train3)\n",
    "pred3 = imputedmdl.predict(X_test3)\n",
    "hamming_loss(y_test3, pred3)"
   ]
  },
  {
   "cell_type": "markdown",
   "metadata": {},
   "source": [
    "This means that roughly 80% of our genre labels are predicted correctly for the test set when using the dataset with imputed data. As this performance is worse than leaving erroneous value in place, we will continue to test other methods of handling missing / nonsensical data.\n",
    "\n",
    "Next, we wondered whether including information about languages and production location significantly improved predictions."
   ]
  },
  {
   "cell_type": "code",
   "execution_count": 34,
   "metadata": {
    "collapsed": false
   },
   "outputs": [],
   "source": [
    "#build several dfs with different predictors\n",
    "a = X_train.ix[:,0:9] #just the basics\n",
    "b = X_train.ix[:,0:132] #include original language\n",
    "c = X_train.ix[:,0:365] #include production countries\n",
    "d = X_train #include spoken language\n",
    "\n",
    "e = X_test.ix[:,0:9] #just the basics\n",
    "f = X_test.ix[:,0:132] #include original language\n",
    "g = X_test.ix[:,0:365] #include production countries\n",
    "h = X_test #include spoken language"
   ]
  },
  {
   "cell_type": "code",
   "execution_count": 35,
   "metadata": {
    "collapsed": false
   },
   "outputs": [
    {
     "name": "stdout",
     "output_type": "stream",
     "text": [
      "[0.17707311529535613, 0.1715434122066177, 0.16805931047682848, 0.16764959207598631]\n"
     ]
    }
   ],
   "source": [
    "#run models on each df\n",
    "dfs_train = [a,b,c,d]\n",
    "dfs_test = [e,f,g,h]\n",
    "loss = []\n",
    "\n",
    "for i in range(4):\n",
    "    mdl = RFC(n_estimators=120, max_depth=60, class_weight = 'balanced', n_jobs=-1).fit(dfs_train[i],y_train)\n",
    "    pred = mdl.predict(dfs_test[i])\n",
    "    loss.append(hamming_loss(y_test, pred))\n",
    "    \n",
    "print loss"
   ]
  },
  {
   "cell_type": "code",
   "execution_count": 36,
   "metadata": {
    "collapsed": false
   },
   "outputs": [
    {
     "data": {
      "image/png": "[encoded data removed]",
      "text/plain": [
       "<matplotlib.figure.Figure at 0x141970e10>"
      ]
     },
     "metadata": {},
     "output_type": "display_data"
    }
   ],
   "source": [
    "plt.figure(figsize=(10,5))\n",
    "index = [0,1,2,3]\n",
    "plt.bar(index,loss,align=\"center\")\n",
    "plt.xticks(index, ('Basics', '+ Original language', '+ Production Countries', '+ Spoken Language'))\n",
    "plt.ylim([0,0.2])\n",
    "plt.grid(axis='y')\n",
    "plt.title('Random Forest with Different Attributes of Films')\n",
    "plt.ylabel('Hamming loss')\n",
    "plt.show()"
   ]
  },
  {
   "cell_type": "markdown",
   "metadata": {},
   "source": [
    "As we can see, ading all our language and country predictors as indicator variables leads to a 1% improvement in classifier performance.  This is not a huge gain, but perhaps worth the added overhead.\n",
    "\n",
    "Next, we wondered whether the different \"basic\" features had roughly similar importance for RFC predictions.  We evaluated this by looking at the RFC importance scores."
   ]
  },
  {
   "cell_type": "code",
   "execution_count": 37,
   "metadata": {
    "collapsed": false
   },
   "outputs": [
    {
     "data": {
      "image/png": "[encoded data removed]",
      "text/plain": [
       "<matplotlib.figure.Figure at 0x1418f2b50>"
      ]
     },
     "metadata": {},
     "output_type": "display_data"
    }
   ],
   "source": [
    "importances = rfc_mdl.feature_importances_\n",
    "std = np.std([tree.feature_importances_ for tree in rfc_mdl.estimators_],\n",
    "             axis=0)\n",
    "indices = np.argsort(importances)[::-1]\n",
    "\n",
    "# Plot the feature importances of the forest\n",
    "plt.figure()\n",
    "plt.title(\"Feature importances\")\n",
    "plt.bar(range(X_train.shape[1]), importances[indices],\n",
    "       color=\"r\", yerr=std[indices], align=\"center\")\n",
    "plt.xticks(range(X_train.shape[1]), indices)\n",
    "plt.xlim([-1, 15])\n",
    "plt.show()"
   ]
  },
  {
   "cell_type": "markdown",
   "metadata": {},
   "source": [
    "As we can see from the above visualization, seven features proved the most important in determining the movie genres for our Random Forest Classifier. The top nine contributors came from our \"basic\" core of quanitiative data scraped from TMDb and are, in order: running time, popularity, release year, # of actors, # of crew, vote average, and vote count. Budget and revenue come last among these variables and suffer from having a large amount of missing data compared to our other features."
   ]
  },
  {
   "cell_type": "code",
   "execution_count": 38,
   "metadata": {
    "collapsed": false
   },
   "outputs": [
    {
     "name": "stdout",
     "output_type": "stream",
     "text": [
      "Feature ranking:\n",
      "1. feature 6 (0.136471)\n",
      "2. feature 3 (0.131113)\n",
      "3. feature 0 (0.117326)\n",
      "4. feature 7 (0.113605)\n",
      "5. feature 8 (0.084507)\n",
      "6. feature 5 (0.082935)\n",
      "7. feature 4 (0.069611)\n",
      "8. feature 1 (0.024706)\n",
      "9. feature 2 (0.014729)\n",
      "10. feature 394 (0.012339)\n",
      "11. feature 345 (0.011786)\n",
      "12. feature 235 (0.008720)\n",
      "13. feature 35 (0.008469)\n",
      "14. feature 423 (0.007209)\n",
      "15. feature 203 (0.006606)\n",
      "16. feature 390 (0.006119)\n",
      "17. feature 166 (0.006049)\n",
      "18. feature 403 (0.005994)\n",
      "19. feature 396 (0.005037)\n",
      "20. feature 201 (0.004618)\n",
      "21. feature 62 (0.004548)\n",
      "22. feature 227 (0.004233)\n",
      "23. feature 183 (0.004148)\n",
      "24. feature 421 (0.003273)\n",
      "25. feature 470 (0.003135)\n",
      "26. feature 232 (0.002911)\n",
      "27. feature 145 (0.002812)\n",
      "28. feature 194 (0.002714)\n",
      "29. feature 508 (0.002537)\n",
      "30. feature 43 (0.002503)\n",
      "31. feature 31 (0.002501)\n",
      "32. feature 489 (0.002429)\n",
      "33. feature 219 (0.002287)\n",
      "34. feature 383 (0.002267)\n",
      "35. feature 511 (0.002264)\n",
      "36. feature 307 (0.002250)\n",
      "37. feature 413 (0.002086)\n",
      "38. feature 243 (0.002068)\n",
      "39. feature 467 (0.002020)\n",
      "40. feature 386 (0.001939)\n",
      "41. feature 431 (0.001909)\n",
      "42. feature 416 (0.001831)\n",
      "43. feature 37 (0.001782)\n",
      "44. feature 465 (0.001688)\n",
      "45. feature 295 (0.001573)\n",
      "46. feature 151 (0.001550)\n",
      "47. feature 60 (0.001538)\n",
      "48. feature 114 (0.001535)\n",
      "49. feature 277 (0.001510)\n",
      "50. feature 182 (0.001502)\n",
      "51. feature 495 (0.001491)\n",
      "52. feature 312 (0.001473)\n",
      "53. feature 185 (0.001469)\n",
      "54. feature 490 (0.001456)\n",
      "55. feature 389 (0.001369)\n",
      "56. feature 487 (0.001335)\n",
      "57. feature 69 (0.001302)\n",
      "58. feature 99 (0.001289)\n",
      "59. feature 175 (0.001263)\n",
      "60. feature 492 (0.001257)\n",
      "61. feature 456 (0.001203)\n",
      "62. feature 285 (0.001193)\n",
      "63. feature 28 (0.001116)\n",
      "64. feature 25 (0.001041)\n",
      "65. feature 170 (0.001034)\n",
      "66. feature 30 (0.001012)\n",
      "67. feature 160 (0.001007)\n",
      "68. feature 340 (0.000972)\n",
      "69. feature 130 (0.000936)\n",
      "70. feature 330 (0.000910)\n",
      "71. feature 144 (0.000881)\n",
      "72. feature 225 (0.000862)\n",
      "73. feature 305 (0.000851)\n",
      "74. feature 446 (0.000845)\n",
      "75. feature 369 (0.000836)\n",
      "76. feature 297 (0.000822)\n",
      "77. feature 90 (0.000808)\n",
      "78. feature 289 (0.000795)\n",
      "79. feature 450 (0.000783)\n",
      "80. feature 498 (0.000781)\n",
      "81. feature 96 (0.000769)\n",
      "82. feature 142 (0.000765)\n",
      "83. feature 52 (0.000764)\n",
      "84. feature 393 (0.000762)\n",
      "85. feature 362 (0.000735)\n",
      "86. feature 337 (0.000726)\n",
      "87. feature 112 (0.000723)\n",
      "88. feature 94 (0.000706)\n",
      "89. feature 286 (0.000700)\n",
      "90. feature 117 (0.000684)\n",
      "91. feature 196 (0.000659)\n",
      "92. feature 115 (0.000658)\n",
      "93. feature 214 (0.000643)\n",
      "94. feature 278 (0.000633)\n",
      "95. feature 223 (0.000632)\n",
      "96. feature 412 (0.000624)\n",
      "97. feature 430 (0.000623)\n",
      "98. feature 401 (0.000596)\n",
      "99. feature 458 (0.000594)\n",
      "100. feature 119 (0.000581)\n",
      "101. feature 484 (0.000555)\n",
      "102. feature 418 (0.000544)\n",
      "103. feature 226 (0.000533)\n",
      "104. feature 91 (0.000531)\n",
      "105. feature 153 (0.000523)\n",
      "106. feature 342 (0.000487)\n",
      "107. feature 298 (0.000480)\n",
      "108. feature 173 (0.000456)\n",
      "109. feature 224 (0.000442)\n",
      "110. feature 469 (0.000434)\n",
      "111. feature 300 (0.000413)\n",
      "112. feature 81 (0.000413)\n",
      "113. feature 221 (0.000407)\n",
      "114. feature 105 (0.000398)\n",
      "115. feature 120 (0.000392)\n",
      "116. feature 231 (0.000375)\n",
      "117. feature 56 (0.000369)\n",
      "118. feature 479 (0.000361)\n",
      "119. feature 414 (0.000331)\n",
      "120. feature 34 (0.000330)\n",
      "121. feature 316 (0.000311)\n",
      "122. feature 191 (0.000309)\n",
      "123. feature 313 (0.000287)\n",
      "124. feature 436 (0.000285)\n",
      "125. feature 420 (0.000277)\n",
      "126. feature 399 (0.000277)\n",
      "127. feature 121 (0.000277)\n",
      "128. feature 306 (0.000272)\n",
      "129. feature 255 (0.000255)\n",
      "130. feature 462 (0.000248)\n",
      "131. feature 190 (0.000246)\n",
      "132. feature 464 (0.000241)\n",
      "133. feature 41 (0.000240)\n",
      "134. feature 54 (0.000238)\n",
      "135. feature 314 (0.000226)\n",
      "136. feature 179 (0.000226)\n",
      "137. feature 478 (0.000223)\n",
      "138. feature 374 (0.000222)\n",
      "139. feature 164 (0.000217)\n",
      "140. feature 502 (0.000205)\n",
      "141. feature 366 (0.000204)\n",
      "142. feature 397 (0.000203)\n",
      "143. feature 110 (0.000203)\n",
      "144. feature 505 (0.000197)\n",
      "145. feature 381 (0.000196)\n",
      "146. feature 350 (0.000189)\n",
      "147. feature 292 (0.000189)\n",
      "148. feature 53 (0.000188)\n",
      "149. feature 133 (0.000187)\n",
      "150. feature 331 (0.000182)\n",
      "151. feature 176 (0.000179)\n",
      "152. feature 23 (0.000168)\n",
      "153. feature 68 (0.000165)\n",
      "154. feature 230 (0.000159)\n",
      "155. feature 13 (0.000157)\n",
      "156. feature 361 (0.000157)\n",
      "157. feature 104 (0.000151)\n",
      "158. feature 417 (0.000149)\n",
      "159. feature 254 (0.000148)\n",
      "160. feature 377 (0.000145)\n",
      "161. feature 98 (0.000144)\n",
      "162. feature 51 (0.000141)\n",
      "163. feature 483 (0.000137)\n",
      "164. feature 109 (0.000131)\n",
      "165. feature 178 (0.000128)\n",
      "166. feature 137 (0.000127)\n",
      "167. feature 205 (0.000124)\n",
      "168. feature 187 (0.000124)\n",
      "169. feature 503 (0.000114)\n",
      "170. feature 509 (0.000114)\n",
      "171. feature 476 (0.000112)\n",
      "172. feature 40 (0.000112)\n",
      "173. feature 10 (0.000109)\n",
      "174. feature 124 (0.000106)\n",
      "175. feature 85 (0.000104)\n",
      "176. feature 440 (0.000102)\n",
      "177. feature 264 (0.000096)\n",
      "178. feature 425 (0.000096)\n",
      "179. feature 388 (0.000090)\n",
      "180. feature 38 (0.000089)\n",
      "181. feature 283 (0.000087)\n",
      "182. feature 75 (0.000087)\n",
      "183. feature 256 (0.000083)\n",
      "184. feature 353 (0.000083)\n",
      "185. feature 93 (0.000082)\n",
      "186. feature 127 (0.000081)\n",
      "187. feature 427 (0.000076)\n",
      "188. feature 238 (0.000074)\n",
      "189. feature 512 (0.000071)\n",
      "190. feature 447 (0.000068)\n",
      "191. feature 380 (0.000068)\n",
      "192. feature 406 (0.000068)\n",
      "193. feature 59 (0.000067)\n",
      "194. feature 429 (0.000065)\n",
      "195. feature 398 (0.000065)\n",
      "196. feature 323 (0.000065)\n",
      "197. feature 441 (0.000064)\n",
      "198. feature 347 (0.000063)\n",
      "199. feature 455 (0.000062)\n",
      "200. feature 220 (0.000062)\n",
      "201. feature 504 (0.000061)\n",
      "202. feature 259 (0.000060)\n",
      "203. feature 449 (0.000059)\n",
      "204. feature 18 (0.000056)\n",
      "205. feature 148 (0.000056)\n",
      "206. feature 445 (0.000055)\n",
      "207. feature 258 (0.000054)\n",
      "208. feature 189 (0.000054)\n",
      "209. feature 246 (0.000054)\n",
      "210. feature 64 (0.000053)\n",
      "211. feature 299 (0.000052)\n",
      "212. feature 444 (0.000051)\n",
      "213. feature 123 (0.000050)\n",
      "214. feature 346 (0.000049)\n",
      "215. feature 409 (0.000048)\n",
      "216. feature 273 (0.000048)\n",
      "217. feature 88 (0.000045)\n",
      "218. feature 20 (0.000044)\n",
      "219. feature 248 (0.000044)\n",
      "220. feature 296 (0.000044)\n",
      "221. feature 356 (0.000042)\n",
      "222. feature 302 (0.000042)\n",
      "223. feature 284 (0.000042)\n",
      "224. feature 135 (0.000041)\n",
      "225. feature 102 (0.000040)\n",
      "226. feature 177 (0.000039)\n",
      "227. feature 76 (0.000039)\n",
      "228. feature 236 (0.000039)\n",
      "229. feature 507 (0.000038)\n",
      "230. feature 405 (0.000037)\n",
      "231. feature 287 (0.000036)\n",
      "232. feature 242 (0.000035)\n",
      "233. feature 270 (0.000035)\n",
      "234. feature 482 (0.000035)\n",
      "235. feature 251 (0.000035)\n",
      "236. feature 159 (0.000034)\n",
      "237. feature 433 (0.000033)\n",
      "238. feature 150 (0.000033)\n",
      "239. feature 488 (0.000032)\n",
      "240. feature 215 (0.000031)\n",
      "241. feature 11 (0.000031)\n",
      "242. feature 22 (0.000030)\n",
      "243. feature 39 (0.000030)\n",
      "244. feature 324 (0.000030)\n",
      "245. feature 80 (0.000029)\n",
      "246. feature 338 (0.000029)\n",
      "247. feature 303 (0.000028)\n",
      "248. feature 207 (0.000027)\n",
      "249. feature 506 (0.000027)\n",
      "250. feature 454 (0.000027)\n",
      "251. feature 165 (0.000026)\n",
      "252. feature 181 (0.000026)\n",
      "253. feature 266 (0.000025)\n",
      "254. feature 250 (0.000025)\n",
      "255. feature 378 (0.000025)\n",
      "256. feature 451 (0.000024)\n",
      "257. feature 47 (0.000024)\n",
      "258. feature 261 (0.000024)\n",
      "259. feature 29 (0.000023)\n",
      "260. feature 247 (0.000023)\n",
      "261. feature 335 (0.000023)\n",
      "262. feature 188 (0.000023)\n",
      "263. feature 291 (0.000022)\n",
      "264. feature 134 (0.000022)\n",
      "265. feature 452 (0.000021)\n",
      "266. feature 122 (0.000020)\n",
      "267. feature 439 (0.000020)\n",
      "268. feature 395 (0.000020)\n",
      "269. feature 408 (0.000020)\n",
      "270. feature 229 (0.000020)\n",
      "271. feature 267 (0.000020)\n",
      "272. feature 434 (0.000020)\n",
      "273. feature 293 (0.000020)\n",
      "274. feature 67 (0.000019)\n",
      "275. feature 172 (0.000019)\n",
      "276. feature 84 (0.000019)\n",
      "277. feature 167 (0.000019)\n",
      "278. feature 138 (0.000018)\n",
      "279. feature 468 (0.000018)\n",
      "280. feature 510 (0.000017)\n",
      "281. feature 372 (0.000017)\n",
      "282. feature 163 (0.000017)\n",
      "283. feature 143 (0.000017)\n",
      "284. feature 357 (0.000017)\n",
      "285. feature 234 (0.000017)\n",
      "286. feature 233 (0.000017)\n",
      "287. feature 319 (0.000017)\n",
      "288. feature 213 (0.000016)\n",
      "289. feature 460 (0.000015)\n",
      "290. feature 363 (0.000015)\n",
      "291. feature 49 (0.000014)\n",
      "292. feature 282 (0.000014)\n",
      "293. feature 195 (0.000013)\n",
      "294. feature 158 (0.000013)\n",
      "295. feature 147 (0.000013)\n",
      "296. feature 382 (0.000013)\n",
      "297. feature 149 (0.000012)\n",
      "298. feature 268 (0.000012)\n",
      "299. feature 341 (0.000012)\n",
      "300. feature 161 (0.000012)\n",
      "301. feature 152 (0.000011)\n",
      "302. feature 407 (0.000011)\n",
      "303. feature 222 (0.000011)\n",
      "304. feature 197 (0.000011)\n",
      "305. feature 419 (0.000011)\n",
      "306. feature 437 (0.000011)\n",
      "307. feature 97 (0.000010)\n",
      "308. feature 252 (0.000010)\n",
      "309. feature 245 (0.000010)\n",
      "310. feature 209 (0.000010)\n",
      "311. feature 325 (0.000010)\n",
      "312. feature 154 (0.000010)\n",
      "313. feature 368 (0.000010)\n",
      "314. feature 237 (0.000010)\n",
      "315. feature 262 (0.000010)\n",
      "316. feature 339 (0.000009)\n",
      "317. feature 280 (0.000009)\n",
      "318. feature 344 (0.000008)\n",
      "319. feature 334 (0.000008)\n",
      "320. feature 257 (0.000008)\n",
      "321. feature 438 (0.000008)\n",
      "322. feature 364 (0.000008)\n",
      "323. feature 415 (0.000008)\n",
      "324. feature 471 (0.000008)\n",
      "325. feature 497 (0.000008)\n",
      "326. feature 354 (0.000007)\n",
      "327. feature 477 (0.000007)\n",
      "328. feature 326 (0.000007)\n",
      "329. feature 174 (0.000007)\n",
      "330. feature 140 (0.000007)\n",
      "331. feature 265 (0.000007)\n",
      "332. feature 422 (0.000007)\n",
      "333. feature 376 (0.000007)\n",
      "334. feature 402 (0.000007)\n",
      "335. feature 146 (0.000007)\n",
      "336. feature 320 (0.000007)\n",
      "337. feature 156 (0.000006)\n",
      "338. feature 239 (0.000006)\n",
      "339. feature 260 (0.000006)\n",
      "340. feature 55 (0.000006)\n",
      "341. feature 392 (0.000006)\n",
      "342. feature 184 (0.000006)\n",
      "343. feature 485 (0.000006)\n",
      "344. feature 141 (0.000006)\n",
      "345. feature 202 (0.000006)\n",
      "346. feature 343 (0.000006)\n",
      "347. feature 103 (0.000006)\n",
      "348. feature 411 (0.000006)\n",
      "349. feature 486 (0.000005)\n",
      "350. feature 244 (0.000005)\n",
      "351. feature 500 (0.000005)\n",
      "352. feature 162 (0.000005)\n",
      "353. feature 200 (0.000005)\n",
      "354. feature 169 (0.000005)\n",
      "355. feature 328 (0.000004)\n",
      "356. feature 168 (0.000004)\n",
      "357. feature 157 (0.000004)\n",
      "358. feature 73 (0.000004)\n",
      "359. feature 424 (0.000004)\n",
      "360. feature 466 (0.000004)\n",
      "361. feature 304 (0.000004)\n",
      "362. feature 349 (0.000004)\n",
      "363. feature 463 (0.000004)\n",
      "364. feature 186 (0.000004)\n",
      "365. feature 42 (0.000004)\n",
      "366. feature 276 (0.000004)\n",
      "367. feature 125 (0.000004)\n",
      "368. feature 443 (0.000004)\n",
      "369. feature 281 (0.000004)\n",
      "370. feature 74 (0.000004)\n",
      "371. feature 327 (0.000003)\n",
      "372. feature 332 (0.000003)\n",
      "373. feature 288 (0.000003)\n",
      "374. feature 171 (0.000003)\n",
      "375. feature 442 (0.000003)\n",
      "376. feature 481 (0.000003)\n",
      "377. feature 384 (0.000003)\n",
      "378. feature 311 (0.000003)\n",
      "379. feature 435 (0.000003)\n",
      "380. feature 387 (0.000003)\n",
      "381. feature 501 (0.000003)\n",
      "382. feature 16 (0.000003)\n",
      "383. feature 86 (0.000003)\n",
      "384. feature 65 (0.000003)\n",
      "385. feature 275 (0.000002)\n",
      "386. feature 50 (0.000002)\n",
      "387. feature 58 (0.000002)\n",
      "388. feature 210 (0.000002)\n",
      "389. feature 308 (0.000002)\n",
      "390. feature 279 (0.000002)\n",
      "391. feature 263 (0.000002)\n",
      "392. feature 474 (0.000002)\n",
      "393. feature 373 (0.000002)\n",
      "394. feature 391 (0.000002)\n",
      "395. feature 271 (0.000002)\n",
      "396. feature 32 (0.000002)\n",
      "397. feature 359 (0.000002)\n",
      "398. feature 139 (0.000002)\n",
      "399. feature 82 (0.000002)\n",
      "400. feature 45 (0.000002)\n",
      "401. feature 301 (0.000002)\n",
      "402. feature 155 (0.000002)\n",
      "403. feature 128 (0.000002)\n",
      "404. feature 321 (0.000002)\n",
      "405. feature 428 (0.000002)\n",
      "406. feature 385 (0.000002)\n",
      "407. feature 211 (0.000002)\n",
      "408. feature 78 (0.000002)\n",
      "409. feature 217 (0.000002)\n",
      "410. feature 432 (0.000002)\n",
      "411. feature 204 (0.000002)\n",
      "412. feature 480 (0.000002)\n",
      "413. feature 57 (0.000002)\n",
      "414. feature 318 (0.000002)\n",
      "415. feature 70 (0.000002)\n",
      "416. feature 410 (0.000001)\n",
      "417. feature 322 (0.000001)\n",
      "418. feature 269 (0.000001)\n",
      "419. feature 367 (0.000001)\n",
      "420. feature 453 (0.000001)\n",
      "421. feature 116 (0.000001)\n",
      "422. feature 491 (0.000001)\n",
      "423. feature 358 (0.000001)\n",
      "424. feature 496 (0.000001)\n",
      "425. feature 132 (0.000001)\n",
      "426. feature 240 (0.000001)\n",
      "427. feature 19 (0.000001)\n",
      "428. feature 309 (0.000001)\n",
      "429. feature 290 (0.000001)\n",
      "430. feature 370 (0.000001)\n",
      "431. feature 461 (0.000001)\n",
      "432. feature 180 (0.000001)\n",
      "433. feature 315 (0.000001)\n",
      "434. feature 317 (0.000001)\n",
      "435. feature 457 (0.000001)\n",
      "436. feature 253 (0.000001)\n",
      "437. feature 499 (0.000001)\n",
      "438. feature 17 (0.000001)\n",
      "439. feature 360 (0.000001)\n",
      "440. feature 228 (0.000001)\n",
      "441. feature 426 (0.000001)\n",
      "442. feature 111 (0.000001)\n",
      "443. feature 329 (0.000001)\n",
      "444. feature 87 (0.000001)\n",
      "445. feature 71 (0.000001)\n",
      "446. feature 208 (0.000001)\n",
      "447. feature 494 (0.000001)\n",
      "448. feature 107 (0.000001)\n",
      "449. feature 198 (0.000001)\n",
      "450. feature 21 (0.000001)\n",
      "451. feature 333 (0.000001)\n",
      "452. feature 294 (0.000001)\n",
      "453. feature 472 (0.000001)\n",
      "454. feature 216 (0.000001)\n",
      "455. feature 212 (0.000001)\n",
      "456. feature 61 (0.000001)\n",
      "457. feature 473 (0.000001)\n",
      "458. feature 274 (0.000000)\n",
      "459. feature 136 (0.000000)\n",
      "460. feature 404 (0.000000)\n",
      "461. feature 351 (0.000000)\n",
      "462. feature 131 (0.000000)\n",
      "463. feature 66 (0.000000)\n",
      "464. feature 310 (0.000000)\n",
      "465. feature 33 (0.000000)\n",
      "466. feature 206 (0.000000)\n",
      "467. feature 63 (0.000000)\n",
      "468. feature 48 (0.000000)\n",
      "469. feature 459 (0.000000)\n",
      "470. feature 336 (0.000000)\n",
      "471. feature 72 (0.000000)\n",
      "472. feature 108 (0.000000)\n",
      "473. feature 95 (0.000000)\n",
      "474. feature 77 (0.000000)\n",
      "475. feature 15 (0.000000)\n",
      "476. feature 106 (0.000000)\n",
      "477. feature 44 (0.000000)\n",
      "478. feature 118 (0.000000)\n",
      "479. feature 126 (0.000000)\n",
      "480. feature 89 (0.000000)\n",
      "481. feature 355 (0.000000)\n",
      "482. feature 129 (0.000000)\n",
      "483. feature 113 (0.000000)\n",
      "484. feature 400 (0.000000)\n",
      "485. feature 218 (0.000000)\n",
      "486. feature 14 (0.000000)\n",
      "487. feature 352 (0.000000)\n",
      "488. feature 12 (0.000000)\n",
      "489. feature 375 (0.000000)\n",
      "490. feature 9 (0.000000)\n",
      "491. feature 348 (0.000000)\n",
      "492. feature 26 (0.000000)\n",
      "493. feature 272 (0.000000)\n",
      "494. feature 249 (0.000000)\n",
      "495. feature 83 (0.000000)\n",
      "496. feature 379 (0.000000)\n",
      "497. feature 46 (0.000000)\n",
      "498. feature 92 (0.000000)\n",
      "499. feature 371 (0.000000)\n",
      "500. feature 241 (0.000000)\n",
      "501. feature 199 (0.000000)\n",
      "502. feature 475 (0.000000)\n",
      "503. feature 448 (0.000000)\n",
      "504. feature 493 (0.000000)\n",
      "505. feature 36 (0.000000)\n",
      "506. feature 79 (0.000000)\n",
      "507. feature 100 (0.000000)\n",
      "508. feature 101 (0.000000)\n",
      "509. feature 192 (0.000000)\n",
      "510. feature 27 (0.000000)\n",
      "511. feature 365 (0.000000)\n",
      "512. feature 24 (0.000000)\n",
      "513. feature 193 (0.000000)\n"
     ]
    }
   ],
   "source": [
    "# Print the full feature ranking\n",
    "print(\"Feature ranking:\")\n",
    "\n",
    "for f in range(X_train.shape[1]):\n",
    "    print(\"%d. feature %d (%f)\" % (f + 1, indices[f], importances[indices[f]]))"
   ]
  },
  {
   "cell_type": "markdown",
   "metadata": {},
   "source": [
    "### Appendix:  model tuning code"
   ]
  },
  {
   "cell_type": "code",
   "execution_count": null,
   "metadata": {
    "collapsed": true
   },
   "outputs": [],
   "source": [
    "# Tuning for LR model\n",
    "loss = []\n",
    "\n",
    "for tuning_param in np.array([0.001, 0.01, 0.05, 0.1, 0.2, 0.5, 1.0, 2.0, 5.0, 10.0 100]):\n",
    "    \n",
    "    lr_mdl = OneVsRestClassifier(LogisticRegression(class_weight ='balanced', C=tuning_param, solver='sag'), n_jobs=-1)\n",
    "    lr_mdl.fit(scaler.transform(X_train), y_train)\n",
    "\n",
    "    # Test LR performance\n",
    "    lr_pred = lr_mdl.predict(scaler.transform(X_test))\n",
    "    loss.append(hamming_loss(y_test, lr_pred))\n",
    "    \n",
    "plt.plot([0.001, 0.01, 0.05, 0.1, 0.2, 0.5, 1.0, 2.0, 5.0, 10.0, 100], loss)\n",
    "plt.xlabel('regularization tuning parameter'); plt.ylabel('Hamming loss')"
   ]
  },
  {
   "cell_type": "code",
   "execution_count": null,
   "metadata": {
    "collapsed": false
   },
   "outputs": [],
   "source": [
    "# Tuning for random forest model\n",
    "\n",
    "n_folds = 5\n",
    "kf = KFold(n_splits=n_folds)\n",
    "\n",
    "# Parameters for tuning a random forest model\n",
    "n_trees = np.arange(10, 100, 20)  # Trees and depth are explored on an exponentially growing space,\n",
    "depths = np.arange(2, 10)   # since it is assumed that trees and depth will add accuracy in a decaying fashion.\n",
    "\n",
    "# To keep track of the best model\n",
    "best_score = 1\n",
    "\n",
    "# Run grid search for model with 5-fold cross validation\n",
    "print '5-fold cross validation:'\n",
    "    \n",
    "for trees in n_trees:\n",
    "    for depth in depths:\n",
    "        loss = []\n",
    "        for ktrain, ktest in kf.split(feat2):\n",
    "            mdl = RFC(n_estimators=trees, max_depth=depth).fit(feat2.iloc[ktrain,:],labels2.iloc[ktrain,:])\n",
    "            pred = mdl.predict(feat2.iloc[ktest,:])\n",
    "            loss.append(hamming_loss(labels2.iloc[ktest,:], pred))\n",
    "        # Record and report probability\n",
    "        average_loss = np.mean(loss)\n",
    "                   \n",
    "        # Record and report accuracy\n",
    "        print \"Trees:\", trees, \"Depth:\", depth, \"Loss:\", average_loss\n",
    "        \n",
    "        # Update our record of the best parameters seen so far\n",
    "        if average_loss < best_score:\n",
    "            best_score = average_loss\n",
    "            best_trees = trees\n",
    "            best_depth = depth\n",
    "\n",
    "print 'Best number of trees, depth:', best_trees, ',', best_depth"
   ]
  },
  {
   "cell_type": "code",
   "execution_count": null,
   "metadata": {
    "collapsed": false
   },
   "outputs": [],
   "source": [
    "# Go higher in trees and depth\n",
    "\n",
    "# Parameters for tuning a random forest model\n",
    "depths = np.arange(50, 80, 10)\n",
    "\n",
    "# To keep track of the best model\n",
    "best_score = 1\n",
    "\n",
    "kf = KFold(n_splits=3)\n",
    "\n",
    "# Run grid search for model with 5-fold cross validation\n",
    "print '3-fold cross validation:'\n",
    "    \n",
    "for trees in n_trees:\n",
    "    for depth in depths:\n",
    "        loss = []\n",
    "        for ktrain, ktest in kf.split(feat2):\n",
    "            mdl = RFC(n_estimators=160, max_depth=depth, class_weight = 'balanced').fit(feat2.iloc[ktrain,:],labels2.iloc[ktrain,:])\n",
    "            pred = mdl.predict(feat2.iloc[ktest,:])\n",
    "            loss.append(hamming_loss(labels2.iloc[ktest,:], pred))\n",
    "        # Record and report probability\n",
    "        average_loss = np.mean(loss)\n",
    "                   \n",
    "        # Record and report accuracy\n",
    "        print \"Trees:\", trees, \"Depth:\", depth, \"Loss:\", average_loss\n",
    "        \n",
    "        # Update our record of the best parameters seen so far\n",
    "        if average_loss < best_score:\n",
    "            best_score = average_loss\n",
    "            best_trees = trees\n",
    "            best_depth = depth\n",
    "\n",
    "print 'Best number of trees, depth:', best_trees, ',', best_depth"
   ]
  }
 ],
 "metadata": {
  "anaconda-cloud": {},
  "kernelspec": {
   "display_name": "Python [conda root]",
   "language": "python",
   "name": "conda-root-py"
  },
  "language_info": {
   "codemirror_mode": {
    "name": "ipython",
    "version": 2
   },
   "file_extension": ".py",
   "mimetype": "text/x-python",
   "name": "python",
   "nbconvert_exporter": "python",
   "pygments_lexer": "ipython2",
   "version": "2.7.12"
  }
 },
 "nbformat": 4,
 "nbformat_minor": 1
}
