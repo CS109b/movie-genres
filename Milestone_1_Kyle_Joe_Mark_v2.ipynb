{
 "cells": [
  {
   "cell_type": "markdown",
   "metadata": {},
   "source": [
    "# Milestone 1\n",
    "\n",
    "Mark Hill, Kyle Honegger, & Joseph Reilly"
   ]
  },
  {
   "cell_type": "code",
   "execution_count": 1,
   "metadata": {
    "collapsed": false,
    "deletable": true,
    "editable": true
   },
   "outputs": [
    {
     "ename": "ImportError",
     "evalue": "No module named imdb",
     "output_type": "error",
     "traceback": [
      "\u001b[0;31m---------------------------------------------------------------------------\u001b[0m",
      "\u001b[0;31mImportError\u001b[0m                               Traceback (most recent call last)",
      "\u001b[0;32m<ipython-input-1-5487b0f83833>\u001b[0m in \u001b[0;36m<module>\u001b[0;34m()\u001b[0m\n\u001b[1;32m      6\u001b[0m \u001b[0mget_ipython\u001b[0m\u001b[1;33m(\u001b[0m\u001b[1;33m)\u001b[0m\u001b[1;33m.\u001b[0m\u001b[0mmagic\u001b[0m\u001b[1;33m(\u001b[0m\u001b[1;34mu'matplotlib inline'\u001b[0m\u001b[1;33m)\u001b[0m\u001b[1;33m\u001b[0m\u001b[0m\n\u001b[1;32m      7\u001b[0m \u001b[1;32mimport\u001b[0m \u001b[0mtime\u001b[0m\u001b[1;33m\u001b[0m\u001b[0m\n\u001b[0;32m----> 8\u001b[0;31m \u001b[1;32mfrom\u001b[0m \u001b[0mimdb\u001b[0m \u001b[1;32mimport\u001b[0m \u001b[0mIMDb\u001b[0m\u001b[1;33m\u001b[0m\u001b[0m\n\u001b[0m\u001b[1;32m      9\u001b[0m \u001b[1;32mimport\u001b[0m \u001b[0mtmdbsimple\u001b[0m \u001b[1;32mas\u001b[0m \u001b[0mtmdb\u001b[0m\u001b[1;33m\u001b[0m\u001b[0m\n",
      "\u001b[0;31mImportError\u001b[0m: No module named imdb"
     ]
    }
   ],
   "source": [
    "import numpy as np\n",
    "import pandas as pd\n",
    "import random\n",
    "import matplotlib\n",
    "import matplotlib.pyplot as plt\n",
    "%matplotlib inline\n",
    "import time\n",
    "from imdb import IMDb\n",
    "import tmdbsimple as tmdb"
   ]
  },
  {
   "cell_type": "code",
   "execution_count": 3,
   "metadata": {
    "collapsed": false,
    "deletable": true,
    "editable": true
   },
   "outputs": [
    {
     "name": "stdout",
     "output_type": "stream",
     "text": [
      "[u'Drama', u'Crime']\n"
     ]
    }
   ],
   "source": [
    "#API code to access the genre and movie poster path of Shawshank Redemption\n",
    "#code adapted from https://www.johannesbader.ch/2013/11/tutorial-download-posters-with-the-movie-database-api-in-python/\n",
    "import requests\n",
    "CONFIG_PATTERN = 'http://api.themoviedb.org/3/configuration?api_key={key}'\n",
    "KEY = '2b2fbe62128703d589c7c7ce18847e91'\n",
    "\n",
    "url = CONFIG_PATTERN.format(key=KEY)\n",
    "r = requests.get(url)\n",
    "config = r.json()\n",
    "\n",
    "#get the genre for Shawshank Redemption\n",
    "INFO = 'https://api.themoviedb.org/3/movie/{imdbid}?api_key={key}' \n",
    "r = requests.get(INFO.format(key=KEY,imdbid='tt0111161'))\n",
    "api_response = r.json()\n",
    "genres = api_response['genres']\n",
    "for i in range(len(genres)):\n",
    "    genres[i] = genres[i]['name']\n",
    "print genres"
   ]
  },
  {
   "cell_type": "code",
   "execution_count": 4,
   "metadata": {
    "collapsed": false,
    "deletable": true,
    "editable": true
   },
   "outputs": [
    {
     "name": "stdout",
     "output_type": "stream",
     "text": [
      "['http://image.tmdb.org/t/p/original/9O7gLzmreU0nGkIB6K3BsJbzvNv.jpg', 'http://image.tmdb.org/t/p/original/5cIUvCJQ2aNPXRCmXiOIuJJxIki.jpg', 'http://image.tmdb.org/t/p/original/adAqmzscm4xSYDHw81xiwiLwbhU.jpg', 'http://image.tmdb.org/t/p/original/eQZx8NMO70dFHfgG5NQpJAI7qEh.jpg', 'http://image.tmdb.org/t/p/original/gD1INoVS8haUutzabwUV7Io6akm.jpg', 'http://image.tmdb.org/t/p/original/4P2ffljT2w5Kjvxj9S0wOoRlm0E.jpg', 'http://image.tmdb.org/t/p/original/fbYYoWxLfEGyHqKNtHcmmVbAtpz.jpg', 'http://image.tmdb.org/t/p/original/zGINvGjdlO6TJRu9wESQvWlOKVT.jpg', 'http://image.tmdb.org/t/p/original/kJhv5sdWucRp4YEcLbQpT75qan1.jpg', 'http://image.tmdb.org/t/p/original/seWYZw81LG4pqKptJ0wjHNR5aHv.jpg', 'http://image.tmdb.org/t/p/original/7DxYWkioSebwGQKL1DZHcMzrJBV.jpg', 'http://image.tmdb.org/t/p/original/5CbDQfraiQbjcjH797ookjp1XeH.jpg', 'http://image.tmdb.org/t/p/original/tWzOxgdkYyuIICOG3kZLN4YHzt6.jpg', 'http://image.tmdb.org/t/p/original/umX3lBhHoTV7Lsci140Yr8VpXyN.jpg', 'http://image.tmdb.org/t/p/original/6O4yjwDhb1akb69z6JNfIcKsRhI.jpg', 'http://image.tmdb.org/t/p/original/9rXmFmcc1eAsNkcYZUBOgeLzma9.jpg', 'http://image.tmdb.org/t/p/original/k6UY5XNtBpJdKAXA1Qb2XXzPypV.jpg', 'http://image.tmdb.org/t/p/original/siNXdaJpNvLmcOYyGhON9H8u6Fr.jpg', 'http://image.tmdb.org/t/p/original/lYgl267rs8bOTg6PD4hZ4sTIciD.jpg', 'http://image.tmdb.org/t/p/original/aS2vB15f8Kk1sFqeHRHKyT8GVsQ.jpg', 'http://image.tmdb.org/t/p/original/txxZq6MbQ8WXTfy7pCVwACIayqV.jpg', 'http://image.tmdb.org/t/p/original/AwaUNTj5gKqaHriZeHWc8u79xww.jpg', 'http://image.tmdb.org/t/p/original/dtT9zWLTvMFopZcc2SLGLgmYQAB.jpg', 'http://image.tmdb.org/t/p/original/wAerXTvrwIDmUY4i1F3dxQcpSnV.jpg', 'http://image.tmdb.org/t/p/original/3asiJYE62NeRY6Ep8Pxa13qlEcE.jpg', 'http://image.tmdb.org/t/p/original/xP0VWq9J9gTi6WBFY954gRs7XpS.jpg', 'http://image.tmdb.org/t/p/original/iQb6OJDOXntOBIHenxw6Oe3gapB.jpg', 'http://image.tmdb.org/t/p/original/jC8v2nRHeqfKXs3RiOs9c6o35U2.jpg', 'http://image.tmdb.org/t/p/original/r11Ioxl0hxOkMGjUk2C2E7MoTBk.jpg', 'http://image.tmdb.org/t/p/original/dFdT15L58fjBYXPNot7pLDqeAlq.jpg', 'http://image.tmdb.org/t/p/original/zVbPHL3dWqNw4o3az5oeG1zkwwS.jpg', 'http://image.tmdb.org/t/p/original/XphTuZGnDcxZRJwVc0a27cKpNi.jpg', 'http://image.tmdb.org/t/p/original/hII6Emej5jcEgY3iv48U0DtJqbT.jpg', 'http://image.tmdb.org/t/p/original/vfwMq8HtgzcDFm3JSeSsiM8kQnx.jpg', 'http://image.tmdb.org/t/p/original/s7P7rNIIJ91P9S6tPtwfzKGxwd4.jpg', 'http://image.tmdb.org/t/p/original/j9v7CENpTaHtshdlXTKW4r9jj12.jpg', 'http://image.tmdb.org/t/p/original/gTa71yZRLQUf9iiz65wED7hqPlA.jpg', 'http://image.tmdb.org/t/p/original/zqXAIbaWr8iIvRC8qLIVvqT8RQX.jpg', 'http://image.tmdb.org/t/p/original/poOQNz3SsRIjn9M7SNUbqcUWNLH.jpg', 'http://image.tmdb.org/t/p/original/gjbFFQtLGNjeOlfjnN2HreJh83m.jpg', 'http://image.tmdb.org/t/p/original/4Ci17ehz9cPzsSQgcZyHdOiiea6.jpg', 'http://image.tmdb.org/t/p/original/lZ3fIJCCNTn0uuC7UiBKR7lBOfU.jpg', 'http://image.tmdb.org/t/p/original/nAcvU8A0bA2TZJmfchIOyopmsxq.jpg', 'http://image.tmdb.org/t/p/original/uKwqKFdzx8turI82RO7nnJnIxwc.jpg', 'http://image.tmdb.org/t/p/original/cjSiWZGfKxv38IHadeuVYsuBe6y.jpg', 'http://image.tmdb.org/t/p/original/ozDzFqmScZ4jKpHyLPHEMGitguW.jpg', 'http://image.tmdb.org/t/p/original/gTTqApedhjosXo34scMQmnFE9V9.jpg', 'http://image.tmdb.org/t/p/original/h8d7Gb8pdG3RCBMKllRSjPYEgqV.jpg', 'http://image.tmdb.org/t/p/original/wSwKCnQhwDyAyYE29g3IgSQZ6za.jpg', 'http://image.tmdb.org/t/p/original/sRBNv6399ZpCE4RrM8tRsDLSsaG.jpg', 'http://image.tmdb.org/t/p/original/gRnz6KYezeRlGylzPtQTi5Okjjb.jpg', 'http://image.tmdb.org/t/p/original/dvREmIZqqxnp5tgzRisBpByH2P4.jpg', 'http://image.tmdb.org/t/p/original/phzbarUPr7lb1HtiNAIkbuAXkBh.jpg', 'http://image.tmdb.org/t/p/original/cKDJNjAcVrnK0DKlC4IqhFF6qmX.jpg', 'http://image.tmdb.org/t/p/original/lWtwVEzglRLWLeM8zxHwroHx2rc.jpg', 'http://image.tmdb.org/t/p/original/jC06ArYZhjpHlChtiYaT7KHKY5v.jpg', 'http://image.tmdb.org/t/p/original/pkWz8ShEjeqCL2lWzIzSsPVwTj3.jpg', 'http://image.tmdb.org/t/p/original/f95HJ2K9YLhcjRIyseBV844fB3g.jpg', 'http://image.tmdb.org/t/p/original/34xKEfIWBIk1U2y99FIJRo9Fzc8.jpg', 'http://image.tmdb.org/t/p/original/jpYNrtQTHzzPQQeJc0GugPnUuNt.jpg', 'http://image.tmdb.org/t/p/original/9NdY1WWLZKTjRAdDHrqWz4IdgdR.jpg', 'http://image.tmdb.org/t/p/original/uZfugmoXK1mP5eYEpDPOIDDQ4Nx.jpg', 'http://image.tmdb.org/t/p/original/iZdih9zQAqxNadp0ScHyYRXsXLf.jpg', 'http://image.tmdb.org/t/p/original/deH0gx2Tg64XgP7LuCPCHE0ydyL.jpg', 'http://image.tmdb.org/t/p/original/66vJITdV88Y6B0mFjS0JPG7S2kr.jpg', 'http://image.tmdb.org/t/p/original/nGQ2bTIqBquHQfr4PDo0OTPFVg1.jpg', 'http://image.tmdb.org/t/p/original/23SuFcgzFsizdcblacbaAYnoYoI.jpg', 'http://image.tmdb.org/t/p/original/9werK1gMdNay9g4r7G4hcnvHSrE.jpg', 'http://image.tmdb.org/t/p/original/yisdh6hdpIbtQfItD5tQGFMnZi.jpg', 'http://image.tmdb.org/t/p/original/rwFyDF3iKmbhV1VdP5sZM5SOv6o.jpg', 'http://image.tmdb.org/t/p/original/8cnZQrzemTEt37rSBIE8Cq08k42.jpg', 'http://image.tmdb.org/t/p/original/6biEHIAjsbGCR7jDORyTGMWCL4k.jpg', 'http://image.tmdb.org/t/p/original/8oGJDkeYulAiBJjnhSQ6Ba39DUi.jpg', 'http://image.tmdb.org/t/p/original/bhOCwTvoQLknRGtHypG5wd3hk8u.jpg']\n"
     ]
    }
   ],
   "source": [
    "#get the poster paths for all Shawshank Redemption posters\n",
    "#code adapted from https://www.johannesbader.ch/2013/11/tutorial-download-posters-with-the-movie-database-api-in-python/\n",
    "IMG_PATTERN = 'http://api.themoviedb.org/3/movie/{imdbid}/images?api_key={key}' \n",
    "r = requests.get(IMG_PATTERN.format(key=KEY,imdbid='tt0111161'))\n",
    "api_response = r.json()\n",
    "\n",
    "base_url = config['images']['base_url']\n",
    "max_size = 'original'\n",
    "\n",
    "posters = api_response['posters']\n",
    "poster_urls = []\n",
    "for poster in posters:\n",
    "    rel_path = poster['file_path']\n",
    "    url = \"{0}{1}{2}\".format(base_url, max_size, rel_path)\n",
    "    poster_urls.append(url)\n",
    "    \n",
    "print poster_urls"
   ]
  },
  {
   "cell_type": "code",
   "execution_count": 6,
   "metadata": {
    "collapsed": false,
    "deletable": true,
    "editable": true
   },
   "outputs": [
    {
     "name": "stdout",
     "output_type": "stream",
     "text": [
      "TMDb genre: [u'Drama', u'Crime']\n",
      "IMDB genre: [u'Crime', u'Drama']\n"
     ]
    }
   ],
   "source": [
    "#Genre for this movie listed by TMDb and IMDb\n",
    "\n",
    "#TMDb genre info\n",
    "print \"TMDb genre:\", genres\n",
    "\n",
    "#IMDb genre info\n",
    "ia = IMDb()\n",
    "shawshank = ia.get_movie('0111161')\n",
    "print \"IMDB genre:\", shawshank['genre']"
   ]
  },
  {
   "cell_type": "code",
   "execution_count": 7,
   "metadata": {
    "collapsed": false,
    "deletable": true,
    "editable": true
   },
   "outputs": [
    {
     "data": {
      "text/html": [
       "<div>\n",
       "<table border=\"1\" class=\"dataframe\">\n",
       "  <thead>\n",
       "    <tr style=\"text-align: right;\">\n",
       "      <th></th>\n",
       "      <th>genres</th>\n",
       "      <th>titles</th>\n",
       "    </tr>\n",
       "  </thead>\n",
       "  <tbody>\n",
       "    <tr>\n",
       "      <th>0</th>\n",
       "      <td>[Animation, Comedy, Drama, Family, Music]</td>\n",
       "      <td>Sing</td>\n",
       "    </tr>\n",
       "    <tr>\n",
       "      <th>1</th>\n",
       "      <td>[Adventure, Action, Fantasy]</td>\n",
       "      <td>Fantastic Beasts and Where to Find Them</td>\n",
       "    </tr>\n",
       "    <tr>\n",
       "      <th>2</th>\n",
       "      <td>[Adventure, Animation, Comedy, Family]</td>\n",
       "      <td>Finding Dory</td>\n",
       "    </tr>\n",
       "    <tr>\n",
       "      <th>3</th>\n",
       "      <td>[Action, Adventure, Comedy, Romance]</td>\n",
       "      <td>Deadpool</td>\n",
       "    </tr>\n",
       "    <tr>\n",
       "      <th>4</th>\n",
       "      <td>[Action, Drama, Science Fiction, War]</td>\n",
       "      <td>Rogue One: A Star Wars Story</td>\n",
       "    </tr>\n",
       "    <tr>\n",
       "      <th>5</th>\n",
       "      <td>[Action, Adventure, Fantasy, Science Fiction]</td>\n",
       "      <td>Doctor Strange</td>\n",
       "    </tr>\n",
       "    <tr>\n",
       "      <th>6</th>\n",
       "      <td>[Drama, Science Fiction]</td>\n",
       "      <td>Arrival</td>\n",
       "    </tr>\n",
       "    <tr>\n",
       "      <th>7</th>\n",
       "      <td>[Action, Science Fiction]</td>\n",
       "      <td>Captain America: Civil War</td>\n",
       "    </tr>\n",
       "    <tr>\n",
       "      <th>8</th>\n",
       "      <td>[Action, Horror]</td>\n",
       "      <td>Underworld: Blood Wars</td>\n",
       "    </tr>\n",
       "    <tr>\n",
       "      <th>9</th>\n",
       "      <td>[Drama]</td>\n",
       "      <td>Lion</td>\n",
       "    </tr>\n",
       "  </tbody>\n",
       "</table>\n",
       "</div>"
      ],
      "text/plain": [
       "                                          genres  \\\n",
       "0      [Animation, Comedy, Drama, Family, Music]   \n",
       "1                   [Adventure, Action, Fantasy]   \n",
       "2         [Adventure, Animation, Comedy, Family]   \n",
       "3           [Action, Adventure, Comedy, Romance]   \n",
       "4          [Action, Drama, Science Fiction, War]   \n",
       "5  [Action, Adventure, Fantasy, Science Fiction]   \n",
       "6                       [Drama, Science Fiction]   \n",
       "7                      [Action, Science Fiction]   \n",
       "8                               [Action, Horror]   \n",
       "9                                        [Drama]   \n",
       "\n",
       "                                    titles  \n",
       "0                                     Sing  \n",
       "1  Fantastic Beasts and Where to Find Them  \n",
       "2                             Finding Dory  \n",
       "3                                 Deadpool  \n",
       "4             Rogue One: A Star Wars Story  \n",
       "5                           Doctor Strange  \n",
       "6                                  Arrival  \n",
       "7               Captain America: Civil War  \n",
       "8                   Underworld: Blood Wars  \n",
       "9                                     Lion  "
      ]
     },
     "execution_count": 7,
     "metadata": {},
     "output_type": "execute_result"
    }
   ],
   "source": [
    "#A list of the 10 most popular movies of 2016 from TMDb and their genre obtained via the API\n",
    "INFO = 'https://api.themoviedb.org/3/discover/movie?api_key={key}&primary_release_year=2016&sort_by=popularity.desc&page=1' \n",
    "r = requests.get(INFO.format(key=KEY))\n",
    "api_response = r.json()\n",
    "\n",
    "titles = []\n",
    "for i in range(10):\n",
    "    titles.append(api_response['results'][i]['original_title'])\n",
    "genres = []\n",
    "for i in range(10):\n",
    "    genres.append(api_response['results'][i]['genre_ids'])\n",
    "    \n",
    "#get genre movie list from TMDb (to convert ID to name of genre)\n",
    "LIST = 'https://api.themoviedb.org/3/genre/movie/list?api_key={key}&language=en-US'\n",
    "r = requests.get(LIST.format(key=KEY))\n",
    "genre_list = r.json()\n",
    "\n",
    "#make it a dictionary\n",
    "dict = {}\n",
    "for i in range(len(genre_list['genres'])):\n",
    "    dict[genre_list['genres'][i]['id']] = genre_list['genres'][i]['name']\n",
    "\n",
    "#convert genre IDs to names\n",
    "for i in range(len(genres)):\n",
    "    for j in range(len(genres[i])):\n",
    "        genres[i][j] = dict[genres[i][j]]\n",
    "\n",
    "#print 2016 movie info\n",
    "dat = {'titles': titles, 'genres': genres}\n",
    "df = pd.DataFrame(data=dat)\n",
    "df"
   ]
  },
  {
   "cell_type": "markdown",
   "metadata": {
    "collapsed": false,
    "deletable": true,
    "editable": true
   },
   "source": [
    "**Comments on what challenges you see for predicting movie genre based on the data you have, and how to address them.**\n",
    "\n",
    "Right now the most obvious challenge is deciding what genres to use and how many to use when designing the test and training sets for classifying a movie. As can been seen from above, the 10 most popular movies of 2016 all have more than 1 genre, and most have more than 2.\n",
    "\n",
    "Different databases might have different genres listed for a movie. Lists of genres from different sources can be in different orders and might need to be sorted first before further pairwise analysis is possible (computationally expensive). Community-based databases might contain errors or subjective differences in people's opinions of genre. Some genres are much more common than others (unbalanced data)."
   ]
  },
  {
   "cell_type": "code",
   "execution_count": 8,
   "metadata": {
    "collapsed": false,
    "deletable": true,
    "editable": true
   },
   "outputs": [],
   "source": [
    "#Code to generate the movie genre pairs and a suitable visualization of the result\n",
    "\n",
    "#download 1000 most popular movies and store genre id + title\n",
    "titles = []\n",
    "genres = []\n",
    "for i in (range(50)):\n",
    "    INFO = 'https://api.themoviedb.org/3/discover/movie?api_key={key}&sort_by=popularity.desc&page={page}' \n",
    "    r = requests.get(INFO.format(key=KEY, page = i+1))\n",
    "    api_response = r.json()\n",
    "    time.sleep(1)\n",
    "    for j in range(20):\n",
    "        titles.append(api_response['results'][j]['original_title'])\n",
    "        genres.append(api_response['results'][j]['genre_ids'])\n",
    "        \n",
    "#convert genre IDs to names\n",
    "for i in range(len(genres)):\n",
    "    for j in range(len(genres[i])):\n",
    "        genres[i][j] = dict[genres[i][j]]"
   ]
  },
  {
   "cell_type": "code",
   "execution_count": 9,
   "metadata": {
    "collapsed": false,
    "deletable": true,
    "editable": true
   },
   "outputs": [],
   "source": [
    "from itertools import combinations\n",
    "\n",
    "#get genre pairs for every movie\n",
    "genre_pairs = []\n",
    "for i in range(len(genres)):\n",
    "    genres[i].sort()\n",
    "    genre_pairs.append(list(combinations(genres[i], 2)))"
   ]
  },
  {
   "cell_type": "code",
   "execution_count": 10,
   "metadata": {
    "collapsed": false,
    "deletable": true,
    "editable": true
   },
   "outputs": [],
   "source": [
    "#just store strings of every combination not binned by movie\n",
    "pairs_strings = []\n",
    "for i in range(len(genre_pairs)):\n",
    "    for j in range(len(genre_pairs[i])):\n",
    "        pairs_strings.append('-'.join(genre_pairs[i][j]))"
   ]
  },
  {
   "cell_type": "code",
   "execution_count": 11,
   "metadata": {
    "collapsed": false
   },
   "outputs": [
    {
     "data": {
      "image/png": "[encoded data removed]",
      "text/plain": [
       "<matplotlib.figure.Figure at 0x115c32710>"
      ]
     },
     "metadata": {},
     "output_type": "display_data"
    }
   ],
   "source": [
    "#the histogram of the data\n",
    "#code adapted from http://stackoverflow.com/questions/35596128/how-to-generate-a-word-frequency-histogram-where-bars-are-ordered-according-to\n",
    "\n",
    "import csv\n",
    "from collections import Counter\n",
    "\n",
    "counts = Counter(pairs_strings)\n",
    "labels, values = zip(*counts.items())\n",
    "\n",
    "# sort values in descending order\n",
    "indSort = np.argsort(values)[::-1]\n",
    "\n",
    "# rearrange data\n",
    "labels = np.array(labels)[indSort]\n",
    "values = np.array(values)[indSort]\n",
    "\n",
    "indexes = np.arange(len(labels))\n",
    "\n",
    "bar_width = 0.35\n",
    "\n",
    "plt.figure(figsize=(15,6))\n",
    "plt.bar(indexes, values)\n",
    "plt.xticks(indexes + bar_width, labels, rotation = 90)\n",
    "plt.title(\"Top 40 Genre Pairs\")\n",
    "plt.ylabel(\"Frequency\")\n",
    "plt.axis([0, 40, 0, 200])\n",
    "\n",
    "plt.show()"
   ]
  },
  {
   "cell_type": "markdown",
   "metadata": {},
   "source": [
    "I picked 40 pairs kind of arbitrarily but after that point the pairs are present in less than 2.5% of our films."
   ]
  },
  {
   "cell_type": "code",
   "execution_count": 12,
   "metadata": {
    "collapsed": false
   },
   "outputs": [
    {
     "data": {
      "text/plain": [
       "<matplotlib.text.Text at 0x117448b10>"
      ]
     },
     "execution_count": 12,
     "metadata": {},
     "output_type": "execute_result"
    },
    {
     "data": {
      "image/png": "[encoded data removed]",
      "text/plain": [
       "<matplotlib.figure.Figure at 0x1161199d0>"
      ]
     },
     "metadata": {},
     "output_type": "display_data"
    }
   ],
   "source": [
    "# Heatmap of genre pairs\n",
    "\n",
    "# First make a set with all the genre names\n",
    "all_genres = set()\n",
    "\n",
    "for i in genres:\n",
    "    all_genres = all_genres | set(i) #keep only unique\n",
    "\n",
    "    \n",
    "# Now, make a dictionary with genres serving as keys\n",
    "genlut = {} # This will serve as a hash table of sorts, for the freq matrix\n",
    "ct = 0\n",
    "for i in all_genres:\n",
    "    genlut[i] = ct\n",
    "    ct += 1\n",
    "    \n",
    "    \n",
    "# Fill in the frequency matrix by incrementing counts\n",
    "genx = np.zeros((len(genlut), len(genlut)))\n",
    "for i in genres:\n",
    "    for j in range(len(i)):\n",
    "        for jj in range((j+1),len(i)):\n",
    "            genx[genlut[i[j]], genlut[i[jj]]] += 1\n",
    "\n",
    "            \n",
    "# Sort keys so the labels are the correct order\n",
    "keyls = genlut.keys()\n",
    "idxls = genlut.values()\n",
    "sorted_gens = [keyls[x] for x in np.argsort(idxls)]\n",
    "\n",
    "# Plot heatmap w/colorbar\n",
    "plt.figure(figsize=(20,15))\n",
    "plt.pcolor(genx)\n",
    "plt.tick_params(labelsize=15)\n",
    "plt.xticks(range(len(sorted_gens)), sorted_gens, rotation=55, ha='center')\n",
    "plt.yticks(range(len(sorted_gens)), sorted_gens)\n",
    "plt.colorbar()\n",
    "plt.title('Genre pair frequencies')"
   ]
  },
  {
   "cell_type": "markdown",
   "metadata": {
    "collapsed": false,
    "deletable": true,
    "editable": true
   },
   "source": [
    "**Additional visualization sketches and EDA with a focus on movie genres**\n",
    "\n",
    "Potential visualizations: IMBd and/or TMDb Rating versus genre (bar chart), genres by country (potentially color code a map), correlations of highly rated or popular actors and their common genres."
   ]
  },
  {
   "cell_type": "code",
   "execution_count": 13,
   "metadata": {
    "collapsed": true
   },
   "outputs": [],
   "source": [
    "# store API key for tmdb\n",
    "tmdb.API_KEY = '2b2fbe62128703d589c7c7ce18847e91'"
   ]
  },
  {
   "cell_type": "code",
   "execution_count": 14,
   "metadata": {
    "collapsed": true
   },
   "outputs": [],
   "source": [
    "# use Discover wrapper to find movies released in 2015 with at least 500 votes, \n",
    "# store in results\n",
    "discover = tmdb.Discover()\n",
    "results = discover.movie(year='2015', vote_count_gte = '500')"
   ]
  },
  {
   "cell_type": "code",
   "execution_count": 15,
   "metadata": {
    "collapsed": false
   },
   "outputs": [
    {
     "data": {
      "text/plain": [
       "{u'adult': False,\n",
       " u'backdrop_path': u'/phszHPFVhPHhMZgo0fWTKBDQsJA.jpg',\n",
       " u'genre_ids': [28, 12, 878, 53],\n",
       " u'id': 76341,\n",
       " u'original_language': u'en',\n",
       " u'original_title': u'Mad Max: Fury Road',\n",
       " u'overview': u\"An apocalyptic story set in the furthest reaches of our planet, in a stark desert landscape where humanity is broken, and most everyone is crazed fighting for the necessities of life. Within this world exist two rebels on the run who just might be able to restore order. There's Max, a man of action and a man of few words, who seeks peace of mind following the loss of his wife and child in the aftermath of the chaos. And Furiosa, a woman of action and a woman who believes her path to survival may be achieved if she can make it across the desert back to her childhood homeland.\",\n",
       " u'popularity': 27.899866,\n",
       " u'poster_path': u'/kqjL17yufvn9OVLyXYpvtyrFfak.jpg',\n",
       " u'release_date': u'2015-05-13',\n",
       " u'title': u'Mad Max: Fury Road',\n",
       " u'video': False,\n",
       " u'vote_average': 7.2,\n",
       " u'vote_count': 7372}"
      ]
     },
     "execution_count": 15,
     "metadata": {},
     "output_type": "execute_result"
    }
   ],
   "source": [
    "# show the data that can be collected from Discover() wrapper for each movie\n",
    "discover.results[1]"
   ]
  },
  {
   "cell_type": "code",
   "execution_count": 16,
   "metadata": {
    "collapsed": true
   },
   "outputs": [],
   "source": [
    "# get total number of pages that need to be iterated through to collect id info for movies \n",
    "all_pages = results['total_pages']"
   ]
  },
  {
   "cell_type": "code",
   "execution_count": 17,
   "metadata": {
    "collapsed": false,
    "scrolled": true
   },
   "outputs": [
    {
     "data": {
      "text/plain": [
       "199"
      ]
     },
     "execution_count": 17,
     "metadata": {},
     "output_type": "execute_result"
    }
   ],
   "source": [
    "# collect the ids of the movies from Discover() to so they can be used to collect specific data\n",
    "# beyond the basic data provided by Discover()\n",
    "ids_EDA = []\n",
    "for i in range(all_pages):\n",
    "    temp = discover.movie(year='2015', vote_count_gte = '500', page = i+1)\n",
    "    for s in discover.results:\n",
    "        ids_EDA.append(s['id'])\n",
    "\n",
    "# check how many movies fit the criteria in Discover()\n",
    "len(ids_EDA)"
   ]
  },
  {
   "cell_type": "code",
   "execution_count": 18,
   "metadata": {
    "collapsed": false
   },
   "outputs": [
    {
     "data": {
      "text/plain": [
       "{u'adult': False,\n",
       " u'backdrop_path': u'/dkMD5qlogeRMiEixC4YNPUvax2T.jpg',\n",
       " u'belongs_to_collection': {u'backdrop_path': u'/pJjIH9QN0OkHFV9eue6XfRVnPkr.jpg',\n",
       "  u'id': 328,\n",
       "  u'name': u'Jurassic Park Collection',\n",
       "  u'poster_path': u'/qIm2nHXLpBBdMxi8dvfrnDkBUDh.jpg'},\n",
       " u'budget': 150000000,\n",
       " u'genres': [{u'id': 28, u'name': u'Action'},\n",
       "  {u'id': 12, u'name': u'Adventure'},\n",
       "  {u'id': 878, u'name': u'Science Fiction'},\n",
       "  {u'id': 53, u'name': u'Thriller'}],\n",
       " u'homepage': u'http://www.jurassicworld.com/',\n",
       " u'id': 135397,\n",
       " u'imdb_id': u'tt0369610',\n",
       " u'original_language': u'en',\n",
       " u'original_title': u'Jurassic World',\n",
       " u'overview': u'Twenty-two years after the events of Jurassic Park, Isla Nublar now features a fully functioning dinosaur theme park, Jurassic World, as originally envisioned by John Hammond.',\n",
       " u'popularity': 49.574254,\n",
       " u'poster_path': u'/jjBgi2r5cRt36xF6iNUEhzscEcb.jpg',\n",
       " u'production_companies': [{u'id': 13, u'name': u'Universal Studios'},\n",
       "  {u'id': 56, u'name': u'Amblin Entertainment'},\n",
       "  {u'id': 923, u'name': u'Legendary Pictures'},\n",
       "  {u'id': 3341, u'name': u'Fuji Television Network'},\n",
       "  {u'id': 6452, u'name': u'Dentsu'}],\n",
       " u'production_countries': [{u'iso_3166_1': u'US',\n",
       "   u'name': u'United States of America'}],\n",
       " u'release_date': u'2015-06-09',\n",
       " u'revenue': 1513528810,\n",
       " u'runtime': 124,\n",
       " u'spoken_languages': [{u'iso_639_1': u'en', u'name': u'English'}],\n",
       " u'status': u'Released',\n",
       " u'tagline': u'The park is open.',\n",
       " u'title': u'Jurassic World',\n",
       " u'video': False,\n",
       " u'vote_average': 6.5,\n",
       " u'vote_count': 6729}"
      ]
     },
     "execution_count": 18,
     "metadata": {},
     "output_type": "execute_result"
    }
   ],
   "source": [
    "# use the Movies() wrapper because this provides a lot more details about each movie\n",
    "# show the basic details that may be of interest from the Movies wrapper\n",
    "meta_data = tmdb.Movies(ids_EDA[0]).info()\n",
    "meta_data"
   ]
  },
  {
   "cell_type": "code",
   "execution_count": 19,
   "metadata": {
    "collapsed": false
   },
   "outputs": [
    {
     "name": "stdout",
     "output_type": "stream",
     "text": [
      "Jurassic World \n",
      "[{u'id': 28, u'name': u'Action'}, {u'id': 12, u'name': u'Adventure'}, {u'id': 878, u'name': u'Science Fiction'}, {u'id': 53, u'name': u'Thriller'}] \n",
      "150000000 \n",
      "The park is open.\n",
      "124 \n",
      "1513528810 \n",
      "6.5\n"
     ]
    }
   ],
   "source": [
    "# print some specific details that may be of interest to us\n",
    "print meta_data['title'],'\\n',meta_data['genres'],'\\n', meta_data['budget'],'\\n',meta_data['tagline']\n",
    "print meta_data['runtime'],'\\n',meta_data['revenue'],'\\n', meta_data['vote_average']"
   ]
  },
  {
   "cell_type": "code",
   "execution_count": 20,
   "metadata": {
    "collapsed": true
   },
   "outputs": [],
   "source": [
    "# get the listed genres for each of the 199 movies found above and the profit for each one\n",
    "# of those movies\n",
    "genre_eda = []\n",
    "profit_eda = []\n",
    "for i in range(len(ids_EDA)):\n",
    "    temp = tmdb.Movies(ids_EDA[i]).info()\n",
    "    genre_eda.append(temp['genres'])\n",
    "    profit_eda.append(temp['revenue'] - temp['budget'])\n",
    "    time.sleep(0.25)"
   ]
  },
  {
   "cell_type": "code",
   "execution_count": 21,
   "metadata": {
    "collapsed": false
   },
   "outputs": [],
   "source": [
    "# pull out the individual genres for each movie\n",
    "genre_lists = []\n",
    "for i in range(len(genre_eda)):\n",
    "    temp = []\n",
    "    for j in range(len(genre_eda[i])):\n",
    "        temp.append(genre_eda[i][j]['name'])\n",
    "    genre_lists.append(temp)"
   ]
  },
  {
   "cell_type": "code",
   "execution_count": 22,
   "metadata": {
    "collapsed": false
   },
   "outputs": [],
   "source": [
    "# if a genre is assigned to a given movie, assign that genre the profit from that movie\n",
    "action_prof = []\n",
    "advent_prof = []\n",
    "anima_prof = []\n",
    "com_prof = []\n",
    "crime_prof = []\n",
    "drama_prof = []\n",
    "family_prof = []\n",
    "fant_prof = []\n",
    "hist_prof = []\n",
    "horr_prof = []\n",
    "music_prof = []\n",
    "myst_prof = []\n",
    "rom_prof = []\n",
    "scifi_prof = []\n",
    "thrill_prof = []\n",
    "war_prof = []\n",
    "west_prof = []\n",
    "for i in range(len(genre_lists)):\n",
    "    temp = genre_lists[i]\n",
    "    if 'Action' in temp:\n",
    "        action_prof.append(profit_eda[i])\n",
    "    if 'Adventure' in temp:\n",
    "        advent_prof.append(profit_eda[i])\n",
    "    if 'Animation' in temp:\n",
    "        anima_prof.append(profit_eda[i])\n",
    "    if 'Comedy' in temp:\n",
    "        com_prof.append(profit_eda[i])\n",
    "    if 'Crime' in temp:\n",
    "        crime_prof.append(profit_eda[i])\n",
    "    if 'Drama' in temp:\n",
    "        drama_prof.append(profit_eda[i])\n",
    "    if 'Family' in temp:\n",
    "        family_prof.append(profit_eda[i])\n",
    "    if 'Fantasy' in temp:\n",
    "        fant_prof.append(profit_eda[i])\n",
    "    if 'History' in temp:\n",
    "        hist_prof.append(profit_eda[i])\n",
    "    if 'Horror' in temp:\n",
    "        horr_prof.append(profit_eda[i])\n",
    "    if 'Music' in temp:\n",
    "        music_prof.append(profit_eda[i])\n",
    "    if 'Mystery' in temp:\n",
    "        myst_prof.append(profit_eda[i])\n",
    "    if 'Romance' in temp:\n",
    "        rom_prof.append(profit_eda[i])\n",
    "    if 'Science Fiction' in temp:\n",
    "        scifi_prof.append(profit_eda[i])\n",
    "    if 'Thriller' in temp:\n",
    "        thrill_prof.append(profit_eda[i])\n",
    "    if 'War' in temp:\n",
    "        war_prof.append(profit_eda[i])\n",
    "    if 'Western' in temp:\n",
    "        west_prof.append(profit_eda[i])\n",
    "        \n",
    "# store in list to find the means for each list of profits for each genre\n",
    "profits = [action_prof, advent_prof, anima_prof, com_prof, crime_prof, drama_prof,\n",
    "          family_prof, fant_prof, hist_prof, horr_prof, music_prof, myst_prof, rom_prof,\n",
    "          scifi_prof, thrill_prof, war_prof, west_prof]"
   ]
  },
  {
   "cell_type": "code",
   "execution_count": 23,
   "metadata": {
    "collapsed": false
   },
   "outputs": [],
   "source": [
    "# find mean profits for each genre\n",
    "genre_profs = []\n",
    "for i in range(len(profits)):\n",
    "    prof = profits[i]\n",
    "    genre_profs.append(np.mean(prof))"
   ]
  },
  {
   "cell_type": "code",
   "execution_count": 24,
   "metadata": {
    "collapsed": false
   },
   "outputs": [
    {
     "data": {
      "image/png": "[encoded data removed]",
      "text/plain": [
       "<matplotlib.figure.Figure at 0x1176636d0>"
      ]
     },
     "metadata": {},
     "output_type": "display_data"
    }
   ],
   "source": [
    "# create bar plot of profit by genre for 2015 >500 vote movies\n",
    "labels = ['Action', 'Adventure','Animation','Comedy','Crime','Drama','Family','Fantasy',\n",
    "          'History','Horror','Music','Mystery','Romance','Sci-Fi','Thriller','War','Western']\n",
    "labels = np.array(labels)\n",
    "values = np.array(genre_profs)\n",
    "\n",
    "indexes = np.arange(len(labels))\n",
    "\n",
    "bar_width = 0.35\n",
    "\n",
    "plt.figure(figsize=(15,6))\n",
    "plt.bar(indexes, values)\n",
    "plt.xticks(indexes + bar_width, labels, rotation = 90)\n",
    "plt.title(\"Average Profit by Genre for 2015 >500 Votes\")\n",
    "plt.ylabel(\"Profit ($ Hundreds of Millions)\")\n",
    "#plt.axis([0, 40, 0, 200])\n",
    "\n",
    "plt.show()"
   ]
  },
  {
   "cell_type": "code",
   "execution_count": 25,
   "metadata": {
    "collapsed": false
   },
   "outputs": [],
   "source": [
    "# can also use the movies wrapper to get movies that are similar to a given movie\n",
    "# NOTE: you can also do this to get recommendations\n",
    "similar = tmdb.Movies(str(ids_EDA[0])+'/similar')\n",
    "similar = similar.info()['results']"
   ]
  },
  {
   "cell_type": "code",
   "execution_count": 26,
   "metadata": {
    "collapsed": false
   },
   "outputs": [
    {
     "name": "stdout",
     "output_type": "stream",
     "text": [
      "Kong: Skull Island 293167 [878, 28, 12, 14]\n",
      "Cloverfield 7191 [28, 53, 878]\n",
      "Godzilla 124905 [28, 878, 53]\n",
      "The Beast from 20,000 Fathoms 35073 [12, 27, 878]\n",
      "The Expendables 27578 [28, 53]\n",
      "Jurassic Park 329 [12, 878]\n",
      "The Shallows 332567 [27, 18, 53]\n",
      "King Kong 254 [12, 18, 28]\n",
      "The Mist 5876 [878, 27, 53]\n",
      "Godzilla 1678 [53, 27, 878]\n",
      "The Food of the Gods 42245 [27, 878]\n",
      "Dolores Claiborne 11929 [9648, 18, 53, 80]\n",
      "Rollercoaster 10670 [28, 53]\n",
      "2-Headed Shark Attack 86703 [27, 28, 53, 878]\n",
      "Tarantula 9077 [27, 878, 53]\n",
      "Snakes on a Plane 326 [28, 80, 27, 53]\n",
      "The Edge 9433 [12, 28, 18, 53]\n",
      "The Third Man 1092 [53, 9648]\n",
      "Frozen 44363 [53]\n",
      "Mothra 39410 [14, 878, 53]\n"
     ]
    }
   ],
   "source": [
    "# recover info about movies that are deemed similar to Jurassic World\n",
    "for s in similar:\n",
    "    print s['title'], s['id'], s['genre_ids']"
   ]
  },
  {
   "cell_type": "code",
   "execution_count": 27,
   "metadata": {
    "collapsed": false,
    "scrolled": true
   },
   "outputs": [
    {
     "data": {
      "text/plain": [
       "u\"I was a huge fan of the original 3 movies, they were out when I was younger, and I grew up loving dinosaurs because of them. This movie was awesome, and I think it can stand as a testimonial piece towards the capabilities that Christopher Pratt has. He nailed it. The graphics were awesome, the supporting cast did great and the t rex saved the child in me. 10\\\\5 stars, four thumbs up, and I hope that star wars episode VII doesn't disappoint,\""
      ]
     },
     "execution_count": 27,
     "metadata": {},
     "output_type": "execute_result"
    }
   ],
   "source": [
    "# can also use the movies wrapper to get movies that are similar to a given movie\n",
    "# NOTE: you can also do this to get recommendations\n",
    "reviews = tmdb.Movies(str(ids_EDA[0])+'/reviews')\n",
    "reviews.info()['results'][0]['content']"
   ]
  },
  {
   "cell_type": "markdown",
   "metadata": {
    "deletable": true,
    "editable": true
   },
   "source": [
    "**A list of questions you could answer with this and related data. Get creative here!**"
   ]
  },
  {
   "cell_type": "markdown",
   "metadata": {},
   "source": [
    "Clearly there is a massive amount of data that can be collected using TMDb, and the examples provided above don't really scratch the surface. Images, cast, alternative titles, translations, and much more can be gathered using TMDb. \n",
    "\n",
    "Using this available data one can imagine creating many visualizations and asking a multidue of questions in an attempt to differentiate genres based on different metadata statistics. What genres are associated with larger budgets? Are certain genres more likely to make a profit? Have a larger cast? Be translated into a certain language or have an original language other than English? Have longer or shorter reviews? Have higher or lower ratings? Have certain keywords? Have certain words in their tagline?\n",
    "\n",
    "Something that could be interesting is to perform topic modeling, or some other type of analysis, on the text data (tagline, overview, reviews) that is available. Perhaps the overviews factorize into a small number of topics that are highly correlated with genre. Or by looking at the reviews, maybe we could perform analyses to guess the gender of each reviewer and then see if certin genres are more likely to have more female or male reviewers. Additionally, we could look at the tag lines and try to find if certain types of taglines (maybe certain words that convey optimism or love or fear) are associated with certain genres.\n",
    "\n",
    "Another possibility is to collect character names for each movie and see if certain types of character names are associated with a particular genre. You could imagine that the names of characters in a family movie are pretty different from those in a history movie or western."
   ]
  },
  {
   "cell_type": "markdown",
   "metadata": {
    "collapsed": true
   },
   "source": [
    "![alt text](image1.jpg \"EDA Visualization 1\")\n",
    "![alt text](image2.jpg \"EDA Visualization 2\")"
   ]
  },
  {
   "cell_type": "markdown",
   "metadata": {},
   "source": [
    "In the first image above you could imagine using word counts from text data and using some sort of Bayesian analysis to predict movie genre like we did in midterm 1. The second image could be a way of showing what genres take up larger portions of certain categories. In this case, whether or not they belong to a collection of movies."
   ]
  },
  {
   "cell_type": "code",
   "execution_count": null,
   "metadata": {
    "collapsed": true
   },
   "outputs": [],
   "source": []
  }
 ],
 "metadata": {
  "anaconda-cloud": {},
  "kernelspec": {
   "display_name": "Python [conda root]",
   "language": "python",
   "name": "conda-root-py"
  },
  "language_info": {
   "codemirror_mode": {
    "name": "ipython",
    "version": 2
   },
   "file_extension": ".py",
   "mimetype": "text/x-python",
   "name": "python",
   "nbconvert_exporter": "python",
   "pygments_lexer": "ipython2",
   "version": "2.7.12"
  }
 },
 "nbformat": 4,
 "nbformat_minor": 2
}
